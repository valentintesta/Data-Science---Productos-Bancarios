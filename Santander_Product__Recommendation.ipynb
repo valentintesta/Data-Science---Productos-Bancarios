{
  "nbformat": 4,
  "nbformat_minor": 0,
  "metadata": {
    "colab": {
      "provenance": [],
      "toc_visible": true,
      "authorship_tag": "ABX9TyOkI8xwb30l8oYT89Z7Dst2",
      "include_colab_link": true
    },
    "kernelspec": {
      "name": "python3",
      "display_name": "Python 3"
    },
    "language_info": {
      "name": "python"
    }
  },
  "cells": [
    {
      "cell_type": "markdown",
      "metadata": {
        "id": "view-in-github",
        "colab_type": "text"
      },
      "source": [
        "<a href=\"https://colab.research.google.com/github/valentintesta/Data-Science---Productos-Bancarios/blob/main/Santander_Product__Recommendation.ipynb\" target=\"_parent\"><img src=\"https://colab.research.google.com/assets/colab-badge.svg\" alt=\"Open In Colab\"/></a>"
      ]
    },
    {
      "cell_type": "markdown",
      "source": [
        "# **Importar Librerias**"
      ],
      "metadata": {
        "id": "ODOIjdiRE0C_"
      }
    },
    {
      "cell_type": "code",
      "execution_count": null,
      "metadata": {
        "id": "0NnvsuQrAfrg"
      },
      "outputs": [],
      "source": [
        "import numpy as np\n",
        "import pandas as pd\n",
        "from datetime import datetime, timedelta\n",
        "import matplotlib.pyplot as plt\n",
        "import matplotlib\n",
        "%matplotlib inline\n",
        "import seaborn as sns\n",
        "import plotly.express as px\n",
        "\n",
        "from sklearn.preprocessing import LabelEncoder\n",
        "from sklearn.preprocessing import OneHotEncoder\n",
        "from sklearn.preprocessing import StandardScaler\n",
        "\n",
        "from sklearn.linear_model import LogisticRegression"
      ]
    },
    {
      "cell_type": "code",
      "source": [
        "!pip install opendatasets\n",
        "import opendatasets as od"
      ],
      "metadata": {
        "colab": {
          "base_uri": "https://localhost:8080/"
        },
        "id": "AP8EXRAeiCNX",
        "outputId": "8af0df4c-e2ee-4594-e5f4-4f02fa57ffd9"
      },
      "execution_count": null,
      "outputs": [
        {
          "output_type": "stream",
          "name": "stdout",
          "text": [
            "Requirement already satisfied: opendatasets in /usr/local/lib/python3.10/dist-packages (0.1.22)\n",
            "Requirement already satisfied: tqdm in /usr/local/lib/python3.10/dist-packages (from opendatasets) (4.66.1)\n",
            "Requirement already satisfied: kaggle in /usr/local/lib/python3.10/dist-packages (from opendatasets) (1.5.16)\n",
            "Requirement already satisfied: click in /usr/local/lib/python3.10/dist-packages (from opendatasets) (8.1.7)\n",
            "Requirement already satisfied: six>=1.10 in /usr/local/lib/python3.10/dist-packages (from kaggle->opendatasets) (1.16.0)\n",
            "Requirement already satisfied: certifi in /usr/local/lib/python3.10/dist-packages (from kaggle->opendatasets) (2023.7.22)\n",
            "Requirement already satisfied: python-dateutil in /usr/local/lib/python3.10/dist-packages (from kaggle->opendatasets) (2.8.2)\n",
            "Requirement already satisfied: requests in /usr/local/lib/python3.10/dist-packages (from kaggle->opendatasets) (2.31.0)\n",
            "Requirement already satisfied: python-slugify in /usr/local/lib/python3.10/dist-packages (from kaggle->opendatasets) (8.0.1)\n",
            "Requirement already satisfied: urllib3 in /usr/local/lib/python3.10/dist-packages (from kaggle->opendatasets) (2.0.5)\n",
            "Requirement already satisfied: bleach in /usr/local/lib/python3.10/dist-packages (from kaggle->opendatasets) (6.0.0)\n",
            "Requirement already satisfied: webencodings in /usr/local/lib/python3.10/dist-packages (from bleach->kaggle->opendatasets) (0.5.1)\n",
            "Requirement already satisfied: text-unidecode>=1.3 in /usr/local/lib/python3.10/dist-packages (from python-slugify->kaggle->opendatasets) (1.3)\n",
            "Requirement already satisfied: charset-normalizer<4,>=2 in /usr/local/lib/python3.10/dist-packages (from requests->kaggle->opendatasets) (3.2.0)\n",
            "Requirement already satisfied: idna<4,>=2.5 in /usr/local/lib/python3.10/dist-packages (from requests->kaggle->opendatasets) (3.4)\n"
          ]
        }
      ]
    },
    {
      "cell_type": "markdown",
      "source": [
        "# **Dataset**"
      ],
      "metadata": {
        "id": "dN0XPwn3z1T9"
      }
    },
    {
      "cell_type": "code",
      "source": [
        "dataset_link=\"https://www.kaggle.com/competitions/santander-product-recommendation/discussion\"\n",
        "od.download(dataset_link)\n"
      ],
      "metadata": {
        "colab": {
          "base_uri": "https://localhost:8080/"
        },
        "id": "uk459AzAiIQM",
        "outputId": "b9e5ebb3-ab2b-4cf8-e8dd-d94e834018aa"
      },
      "execution_count": null,
      "outputs": [
        {
          "output_type": "stream",
          "name": "stdout",
          "text": [
            "Skipping, found downloaded files in \"./santander-product-recommendation\" (use force=True to force download)\n"
          ]
        }
      ]
    },
    {
      "cell_type": "code",
      "source": [
        "import os\n",
        "os.chdir(\"santander-product-recommendation\")\n",
        "os.listdir()\n"
      ],
      "metadata": {
        "colab": {
          "base_uri": "https://localhost:8080/"
        },
        "id": "LK0PjyuhjyPa",
        "outputId": "94726543-8389-4026-e235-242bc9ec8495"
      },
      "execution_count": null,
      "outputs": [
        {
          "output_type": "execute_result",
          "data": {
            "text/plain": [
              "['test_ver2.csv.zip', 'train_ver2.csv.zip', 'sample_submission.csv.zip']"
            ]
          },
          "metadata": {},
          "execution_count": 3
        }
      ]
    },
    {
      "cell_type": "code",
      "source": [
        "chunks = pd.read_csv(\"/content/santander-product-recommendation/train_ver2.csv.zip\",  chunksize=100000)\n"
      ],
      "metadata": {
        "id": "SoY78Hugl5tB"
      },
      "execution_count": null,
      "outputs": []
    },
    {
      "cell_type": "markdown",
      "source": [
        "# **Preprocesamiento de datos**"
      ],
      "metadata": {
        "id": "piZUtc6SFaJ5"
      }
    },
    {
      "cell_type": "code",
      "source": [
        "# valores nulos\n",
        "for chunk in chunks:\n",
        "    print(chunk.isnull().sum())\n",
        "    break\n",
        "\n",
        "chunk.info()"
      ],
      "metadata": {
        "colab": {
          "base_uri": "https://localhost:8080/"
        },
        "id": "gxDt8OJN0EPC",
        "outputId": "5442efe7-1f77-4737-b148-df5498e01953"
      },
      "execution_count": null,
      "outputs": [
        {
          "output_type": "stream",
          "name": "stdout",
          "text": [
            "fecha_dato                    0\n",
            "ncodpers                      0\n",
            "ind_empleado                683\n",
            "pais_residencia             683\n",
            "sexo                        683\n",
            "age                           0\n",
            "fecha_alta                  683\n",
            "ind_nuevo                   683\n",
            "antiguedad                    0\n",
            "indrel                      683\n",
            "ult_fec_cli_1t            99872\n",
            "indrel_1mes                 683\n",
            "tiprel_1mes                 683\n",
            "indresi                     683\n",
            "indext                      683\n",
            "conyuemp                 100000\n",
            "canal_entrada               688\n",
            "indfall                     683\n",
            "tipodom                     683\n",
            "cod_prov                    769\n",
            "nomprov                     769\n",
            "ind_actividad_cliente       683\n",
            "renta                     18284\n",
            "segmento                    691\n",
            "ind_ahor_fin_ult1             0\n",
            "ind_aval_fin_ult1             0\n",
            "ind_cco_fin_ult1              0\n",
            "ind_cder_fin_ult1             0\n",
            "ind_cno_fin_ult1              0\n",
            "ind_ctju_fin_ult1             0\n",
            "ind_ctma_fin_ult1             0\n",
            "ind_ctop_fin_ult1             0\n",
            "ind_ctpp_fin_ult1             0\n",
            "ind_deco_fin_ult1             0\n",
            "ind_deme_fin_ult1             0\n",
            "ind_dela_fin_ult1             0\n",
            "ind_ecue_fin_ult1             0\n",
            "ind_fond_fin_ult1             0\n",
            "ind_hip_fin_ult1              0\n",
            "ind_plan_fin_ult1             0\n",
            "ind_pres_fin_ult1             0\n",
            "ind_reca_fin_ult1             0\n",
            "ind_tjcr_fin_ult1             0\n",
            "ind_valo_fin_ult1             0\n",
            "ind_viv_fin_ult1              0\n",
            "ind_nomina_ult1             210\n",
            "ind_nom_pens_ult1           210\n",
            "ind_recibo_ult1               0\n",
            "dtype: int64\n",
            "<class 'pandas.core.frame.DataFrame'>\n",
            "RangeIndex: 100000 entries, 0 to 99999\n",
            "Data columns (total 48 columns):\n",
            " #   Column                 Non-Null Count   Dtype  \n",
            "---  ------                 --------------   -----  \n",
            " 0   fecha_dato             100000 non-null  object \n",
            " 1   ncodpers               100000 non-null  int64  \n",
            " 2   ind_empleado           99317 non-null   object \n",
            " 3   pais_residencia        99317 non-null   object \n",
            " 4   sexo                   99317 non-null   object \n",
            " 5   age                    100000 non-null  object \n",
            " 6   fecha_alta             99317 non-null   object \n",
            " 7   ind_nuevo              99317 non-null   float64\n",
            " 8   antiguedad             100000 non-null  object \n",
            " 9   indrel                 99317 non-null   float64\n",
            " 10  ult_fec_cli_1t         128 non-null     object \n",
            " 11  indrel_1mes            99317 non-null   float64\n",
            " 12  tiprel_1mes            99317 non-null   object \n",
            " 13  indresi                99317 non-null   object \n",
            " 14  indext                 99317 non-null   object \n",
            " 15  conyuemp               0 non-null       float64\n",
            " 16  canal_entrada          99312 non-null   object \n",
            " 17  indfall                99317 non-null   object \n",
            " 18  tipodom                99317 non-null   float64\n",
            " 19  cod_prov               99231 non-null   float64\n",
            " 20  nomprov                99231 non-null   object \n",
            " 21  ind_actividad_cliente  99317 non-null   float64\n",
            " 22  renta                  81716 non-null   float64\n",
            " 23  segmento               99309 non-null   object \n",
            " 24  ind_ahor_fin_ult1      100000 non-null  int64  \n",
            " 25  ind_aval_fin_ult1      100000 non-null  int64  \n",
            " 26  ind_cco_fin_ult1       100000 non-null  int64  \n",
            " 27  ind_cder_fin_ult1      100000 non-null  int64  \n",
            " 28  ind_cno_fin_ult1       100000 non-null  int64  \n",
            " 29  ind_ctju_fin_ult1      100000 non-null  int64  \n",
            " 30  ind_ctma_fin_ult1      100000 non-null  int64  \n",
            " 31  ind_ctop_fin_ult1      100000 non-null  int64  \n",
            " 32  ind_ctpp_fin_ult1      100000 non-null  int64  \n",
            " 33  ind_deco_fin_ult1      100000 non-null  int64  \n",
            " 34  ind_deme_fin_ult1      100000 non-null  int64  \n",
            " 35  ind_dela_fin_ult1      100000 non-null  int64  \n",
            " 36  ind_ecue_fin_ult1      100000 non-null  int64  \n",
            " 37  ind_fond_fin_ult1      100000 non-null  int64  \n",
            " 38  ind_hip_fin_ult1       100000 non-null  int64  \n",
            " 39  ind_plan_fin_ult1      100000 non-null  int64  \n",
            " 40  ind_pres_fin_ult1      100000 non-null  int64  \n",
            " 41  ind_reca_fin_ult1      100000 non-null  int64  \n",
            " 42  ind_tjcr_fin_ult1      100000 non-null  int64  \n",
            " 43  ind_valo_fin_ult1      100000 non-null  int64  \n",
            " 44  ind_viv_fin_ult1       100000 non-null  int64  \n",
            " 45  ind_nomina_ult1        99790 non-null   float64\n",
            " 46  ind_nom_pens_ult1      99790 non-null   float64\n",
            " 47  ind_recibo_ult1        100000 non-null  int64  \n",
            "dtypes: float64(10), int64(23), object(15)\n",
            "memory usage: 36.6+ MB\n"
          ]
        }
      ]
    },
    {
      "cell_type": "code",
      "source": [
        "print(chunk)\n"
      ],
      "metadata": {
        "colab": {
          "base_uri": "https://localhost:8080/"
        },
        "id": "HznD0qyH0OHW",
        "outputId": "117cc1e3-4a90-48f5-bcaa-31999df66872"
      },
      "execution_count": null,
      "outputs": [
        {
          "output_type": "stream",
          "name": "stdout",
          "text": [
            "       fecha_dato  ncodpers ind_empleado pais_residencia sexo  age  \\\n",
            "0      2015-01-28   1375586            N              ES    H   35   \n",
            "1      2015-01-28   1050611            N              ES    V   23   \n",
            "2      2015-01-28   1050612            N              ES    V   23   \n",
            "3      2015-01-28   1050613            N              ES    H   22   \n",
            "4      2015-01-28   1050614            N              ES    V   23   \n",
            "...           ...       ...          ...             ...  ...  ...   \n",
            "99995  2015-01-28    890561            N              ES    H   25   \n",
            "99996  2015-01-28    890559            N              ES    H   48   \n",
            "99997  2015-01-28    890557            N              ES    V   53   \n",
            "99998  2015-01-28    890498            N              ES    V   47   \n",
            "99999  2015-01-28    890502            N              ES    H   52   \n",
            "\n",
            "       fecha_alta  ind_nuevo antiguedad  indrel  ... ind_hip_fin_ult1  \\\n",
            "0      2015-01-12        0.0          6     1.0  ...                0   \n",
            "1      2012-08-10        0.0         35     1.0  ...                0   \n",
            "2      2012-08-10        0.0         35     1.0  ...                0   \n",
            "3      2012-08-10        0.0         35     1.0  ...                0   \n",
            "4      2012-08-10        0.0         35     1.0  ...                0   \n",
            "...           ...        ...        ...     ...  ...              ...   \n",
            "99995  2010-09-02        0.0         58     1.0  ...                0   \n",
            "99996  2010-09-03        0.0         58     1.0  ...                0   \n",
            "99997  2010-09-02        0.0         58     1.0  ...                0   \n",
            "99998  2010-09-02        0.0         58     1.0  ...                0   \n",
            "99999  2010-09-02        0.0         58     1.0  ...                0   \n",
            "\n",
            "       ind_plan_fin_ult1 ind_pres_fin_ult1 ind_reca_fin_ult1  \\\n",
            "0                      0                 0                 0   \n",
            "1                      0                 0                 0   \n",
            "2                      0                 0                 0   \n",
            "3                      0                 0                 0   \n",
            "4                      0                 0                 0   \n",
            "...                  ...               ...               ...   \n",
            "99995                  0                 0                 0   \n",
            "99996                  0                 0                 0   \n",
            "99997                  0                 0                 0   \n",
            "99998                  0                 0                 0   \n",
            "99999                  0                 0                 0   \n",
            "\n",
            "      ind_tjcr_fin_ult1  ind_valo_fin_ult1 ind_viv_fin_ult1 ind_nomina_ult1  \\\n",
            "0                     0                  0                0             0.0   \n",
            "1                     0                  0                0             0.0   \n",
            "2                     0                  0                0             0.0   \n",
            "3                     0                  0                0             0.0   \n",
            "4                     0                  0                0             0.0   \n",
            "...                 ...                ...              ...             ...   \n",
            "99995                 0                  0                0             0.0   \n",
            "99996                 0                  0                0             0.0   \n",
            "99997                 0                  0                0             0.0   \n",
            "99998                 0                  0                0             0.0   \n",
            "99999                 0                  0                0             0.0   \n",
            "\n",
            "       ind_nom_pens_ult1  ind_recibo_ult1  \n",
            "0                    0.0                0  \n",
            "1                    0.0                0  \n",
            "2                    0.0                0  \n",
            "3                    0.0                0  \n",
            "4                    0.0                0  \n",
            "...                  ...              ...  \n",
            "99995                0.0                0  \n",
            "99996                0.0                1  \n",
            "99997                0.0                0  \n",
            "99998                0.0                0  \n",
            "99999                0.0                0  \n",
            "\n",
            "[100000 rows x 48 columns]\n"
          ]
        }
      ]
    },
    {
      "cell_type": "code",
      "source": [
        "# variables\n",
        "resid_empl = ['ind_empleado', 'pais_residencia', 'indrel', 'ind_nuevo', 'indresi', 'indext', 'indfall', 'indrel_1mes', 'canal_entrada', 'tipodom']\n",
        "for i in resid_empl:\n",
        "    resid_empl_values = chunk[i].value_counts(normalize = True)\n",
        "    print(i, end='\\n')\n",
        "    print(resid_empl_values)\n"
      ],
      "metadata": {
        "colab": {
          "base_uri": "https://localhost:8080/"
        },
        "id": "3E7sSx2F0jUc",
        "outputId": "aac57abd-82a3-4eac-8958-c531d2fe35ca"
      },
      "execution_count": null,
      "outputs": [
        {
          "output_type": "stream",
          "name": "stdout",
          "text": [
            "ind_empleado\n",
            "N    1.0\n",
            "Name: ind_empleado, dtype: float64\n",
            "pais_residencia\n",
            "ES    0.999134\n",
            "MX    0.000111\n",
            "GB    0.000111\n",
            "FR    0.000060\n",
            "DE    0.000060\n",
            "CO    0.000060\n",
            "CH    0.000040\n",
            "PT    0.000030\n",
            "DO    0.000030\n",
            "AR    0.000030\n",
            "CN    0.000020\n",
            "FI    0.000020\n",
            "HN    0.000020\n",
            "EC    0.000020\n",
            "IT    0.000020\n",
            "BR    0.000020\n",
            "VE    0.000020\n",
            "BE    0.000020\n",
            "NL    0.000020\n",
            "CL    0.000020\n",
            "CA    0.000010\n",
            "MZ    0.000010\n",
            "CR    0.000010\n",
            "IN    0.000010\n",
            "PL    0.000010\n",
            "TW    0.000010\n",
            "AL    0.000010\n",
            "IE    0.000010\n",
            "US    0.000010\n",
            "SE    0.000010\n",
            "AT    0.000010\n",
            "PE    0.000010\n",
            "NI    0.000010\n",
            "Name: pais_residencia, dtype: float64\n",
            "indrel\n",
            "1.0     0.998711\n",
            "99.0    0.001289\n",
            "Name: indrel, dtype: float64\n",
            "ind_nuevo\n",
            "0.0    0.999789\n",
            "1.0    0.000211\n",
            "Name: ind_nuevo, dtype: float64\n",
            "indresi\n",
            "S    0.999134\n",
            "N    0.000866\n",
            "Name: indresi, dtype: float64\n",
            "indext\n",
            "N    0.957147\n",
            "S    0.042853\n",
            "Name: indext, dtype: float64\n",
            "indfall\n",
            "N    0.999789\n",
            "S    0.000211\n",
            "Name: indfall, dtype: float64\n",
            "indrel_1mes\n",
            "1.0    0.99997\n",
            "3.0    0.00003\n",
            "Name: indrel_1mes, dtype: float64\n",
            "canal_entrada\n",
            "KHE    0.732238\n",
            "KFC    0.143699\n",
            "KAT    0.057576\n",
            "KHD    0.038616\n",
            "KFA    0.016413\n",
            "KAZ    0.003454\n",
            "KHC    0.002386\n",
            "KAB    0.000453\n",
            "RED    0.000393\n",
            "KAE    0.000342\n",
            "KEH    0.000332\n",
            "KHK    0.000332\n",
            "KAR    0.000322\n",
            "KFD    0.000302\n",
            "KAA    0.000292\n",
            "KAQ    0.000222\n",
            "KAG    0.000222\n",
            "KFG    0.000211\n",
            "KGX    0.000211\n",
            "KFJ    0.000181\n",
            "KFS    0.000171\n",
            "KGV    0.000171\n",
            "KFP    0.000161\n",
            "KAH    0.000131\n",
            "KCC    0.000121\n",
            "KHL    0.000111\n",
            "KAJ    0.000101\n",
            "KFL    0.000101\n",
            "KFF    0.000091\n",
            "KAI    0.000091\n",
            "KFU    0.000091\n",
            "KAP    0.000081\n",
            "KFK    0.000070\n",
            "KFN    0.000070\n",
            "KGY    0.000060\n",
            "KHA    0.000030\n",
            "KDH    0.000030\n",
            "KHM    0.000030\n",
            "KHN    0.000020\n",
            "KGN    0.000010\n",
            "KAF    0.000010\n",
            "KHO    0.000010\n",
            "KBG    0.000010\n",
            "KGC    0.000010\n",
            "KHF    0.000010\n",
            "KAD    0.000010\n",
            "Name: canal_entrada, dtype: float64\n",
            "tipodom\n",
            "1.0    1.0\n",
            "Name: tipodom, dtype: float64\n"
          ]
        }
      ]
    },
    {
      "cell_type": "code",
      "source": [
        "# Eliminar variables\n",
        "chunk.drop(chunk[chunk['indfall'] == 'S'].index, inplace = True)"
      ],
      "metadata": {
        "id": "mcFQm-Ar0t1a"
      },
      "execution_count": null,
      "outputs": []
    },
    {
      "cell_type": "code",
      "source": [
        "chunk.drop(chunk[['ult_fec_cli_1t', 'conyuemp', 'indrel', 'ind_empleado', 'pais_residencia', 'ind_nuevo', 'indresi', 'indext', 'indfall', 'indrel_1mes', 'canal_entrada', 'tipodom']], axis=1, inplace = True)"
      ],
      "metadata": {
        "id": "PF5qTQ8K03zd"
      },
      "execution_count": null,
      "outputs": []
    },
    {
      "cell_type": "markdown",
      "source": [
        "- Las siguientes columnas 'sexo', 'fecha_alta', 'ind_nuevo', 'indrel', 'indrel_1mes', 'tiprel_1mes', 'ind_actividad_cliente' tienen el mismo número de valores faltantes. Voy a verificar si son los mismos casos y los eliminaré.\n",
        "\n",
        "- Al mismo tiempo, eliminaré los casos en los que no se proporcione el nombre o código de la provincia, ya que la provincia puede ser una información importante."
      ],
      "metadata": {
        "id": "5xs-k2ka0969"
      }
    },
    {
      "cell_type": "code",
      "source": [
        "# valores nulos\n",
        "chunk.isnull().sum()"
      ],
      "metadata": {
        "colab": {
          "base_uri": "https://localhost:8080/"
        },
        "id": "ex1czGA11ngb",
        "outputId": "68c1b29c-61dc-463e-9319-d437bd728fd0"
      },
      "execution_count": null,
      "outputs": [
        {
          "output_type": "execute_result",
          "data": {
            "text/plain": [
              "fecha_dato                   0\n",
              "ncodpers                     0\n",
              "sexo                       683\n",
              "age                          0\n",
              "fecha_alta                 683\n",
              "antiguedad                   0\n",
              "tiprel_1mes                683\n",
              "cod_prov                   769\n",
              "nomprov                    769\n",
              "ind_actividad_cliente      683\n",
              "renta                    18281\n",
              "segmento                   691\n",
              "ind_ahor_fin_ult1            0\n",
              "ind_aval_fin_ult1            0\n",
              "ind_cco_fin_ult1             0\n",
              "ind_cder_fin_ult1            0\n",
              "ind_cno_fin_ult1             0\n",
              "ind_ctju_fin_ult1            0\n",
              "ind_ctma_fin_ult1            0\n",
              "ind_ctop_fin_ult1            0\n",
              "ind_ctpp_fin_ult1            0\n",
              "ind_deco_fin_ult1            0\n",
              "ind_deme_fin_ult1            0\n",
              "ind_dela_fin_ult1            0\n",
              "ind_ecue_fin_ult1            0\n",
              "ind_fond_fin_ult1            0\n",
              "ind_hip_fin_ult1             0\n",
              "ind_plan_fin_ult1            0\n",
              "ind_pres_fin_ult1            0\n",
              "ind_reca_fin_ult1            0\n",
              "ind_tjcr_fin_ult1            0\n",
              "ind_valo_fin_ult1            0\n",
              "ind_viv_fin_ult1             0\n",
              "ind_nomina_ult1            210\n",
              "ind_nom_pens_ult1          210\n",
              "ind_recibo_ult1              0\n",
              "dtype: int64"
            ]
          },
          "metadata": {},
          "execution_count": 42
        }
      ]
    },
    {
      "cell_type": "code",
      "source": [
        "sexo_withNull = chunk[chunk['sexo'].isnull()]\n",
        "columns_with_Nan = ['fecha_alta', 'tiprel_1mes', 'ind_actividad_cliente']\n",
        "for i in columns_with_Nan:\n",
        "    print(i, sexo_withNull[i].isnull().sum(), end = '\\n')"
      ],
      "metadata": {
        "colab": {
          "base_uri": "https://localhost:8080/"
        },
        "id": "luQQpWbS1yvR",
        "outputId": "ac380cca-9c9c-47bc-adb4-8f49d8dc5d82"
      },
      "execution_count": null,
      "outputs": [
        {
          "output_type": "stream",
          "name": "stdout",
          "text": [
            "fecha_alta 683\n",
            "tiprel_1mes 683\n",
            "ind_actividad_cliente 683\n"
          ]
        }
      ]
    },
    {
      "cell_type": "code",
      "source": [
        "chunk.dropna(subset=['sexo', 'nomprov'], inplace = True)\n"
      ],
      "metadata": {
        "id": "SkYcXiqZ11zx"
      },
      "execution_count": null,
      "outputs": []
    },
    {
      "cell_type": "code",
      "source": [
        "chunk.isnull().sum()"
      ],
      "metadata": {
        "colab": {
          "base_uri": "https://localhost:8080/"
        },
        "id": "b8dvUcb713vG",
        "outputId": "1de4f705-fad0-4906-b553-78142f84557e"
      },
      "execution_count": null,
      "outputs": [
        {
          "output_type": "execute_result",
          "data": {
            "text/plain": [
              "fecha_dato                   0\n",
              "ncodpers                     0\n",
              "sexo                         0\n",
              "age                          0\n",
              "fecha_alta                   0\n",
              "antiguedad                   0\n",
              "tiprel_1mes                  0\n",
              "cod_prov                     0\n",
              "nomprov                      0\n",
              "ind_actividad_cliente        0\n",
              "renta                    17512\n",
              "segmento                     8\n",
              "ind_ahor_fin_ult1            0\n",
              "ind_aval_fin_ult1            0\n",
              "ind_cco_fin_ult1             0\n",
              "ind_cder_fin_ult1            0\n",
              "ind_cno_fin_ult1             0\n",
              "ind_ctju_fin_ult1            0\n",
              "ind_ctma_fin_ult1            0\n",
              "ind_ctop_fin_ult1            0\n",
              "ind_ctpp_fin_ult1            0\n",
              "ind_deco_fin_ult1            0\n",
              "ind_deme_fin_ult1            0\n",
              "ind_dela_fin_ult1            0\n",
              "ind_ecue_fin_ult1            0\n",
              "ind_fond_fin_ult1            0\n",
              "ind_hip_fin_ult1             0\n",
              "ind_plan_fin_ult1            0\n",
              "ind_pres_fin_ult1            0\n",
              "ind_reca_fin_ult1            0\n",
              "ind_tjcr_fin_ult1            0\n",
              "ind_valo_fin_ult1            0\n",
              "ind_viv_fin_ult1             0\n",
              "ind_nomina_ult1              6\n",
              "ind_nom_pens_ult1            6\n",
              "ind_recibo_ult1              0\n",
              "dtype: int64"
            ]
          },
          "metadata": {},
          "execution_count": 45
        }
      ]
    },
    {
      "cell_type": "code",
      "source": [
        "# dataset info\n",
        "chunk.info()\n"
      ],
      "metadata": {
        "colab": {
          "base_uri": "https://localhost:8080/"
        },
        "id": "eNwATj2r2CAa",
        "outputId": "38090bd1-76ab-434b-9eb3-c067521e06af"
      },
      "execution_count": null,
      "outputs": [
        {
          "output_type": "stream",
          "name": "stdout",
          "text": [
            "<class 'pandas.core.frame.DataFrame'>\n",
            "Int64Index: 99210 entries, 0 to 99999\n",
            "Data columns (total 36 columns):\n",
            " #   Column                 Non-Null Count  Dtype  \n",
            "---  ------                 --------------  -----  \n",
            " 0   fecha_dato             99210 non-null  object \n",
            " 1   ncodpers               99210 non-null  int64  \n",
            " 2   sexo                   99210 non-null  object \n",
            " 3   age                    99210 non-null  object \n",
            " 4   fecha_alta             99210 non-null  object \n",
            " 5   antiguedad             99210 non-null  object \n",
            " 6   tiprel_1mes            99210 non-null  object \n",
            " 7   cod_prov               99210 non-null  float64\n",
            " 8   nomprov                99210 non-null  object \n",
            " 9   ind_actividad_cliente  99210 non-null  float64\n",
            " 10  renta                  81698 non-null  float64\n",
            " 11  segmento               99202 non-null  object \n",
            " 12  ind_ahor_fin_ult1      99210 non-null  int64  \n",
            " 13  ind_aval_fin_ult1      99210 non-null  int64  \n",
            " 14  ind_cco_fin_ult1       99210 non-null  int64  \n",
            " 15  ind_cder_fin_ult1      99210 non-null  int64  \n",
            " 16  ind_cno_fin_ult1       99210 non-null  int64  \n",
            " 17  ind_ctju_fin_ult1      99210 non-null  int64  \n",
            " 18  ind_ctma_fin_ult1      99210 non-null  int64  \n",
            " 19  ind_ctop_fin_ult1      99210 non-null  int64  \n",
            " 20  ind_ctpp_fin_ult1      99210 non-null  int64  \n",
            " 21  ind_deco_fin_ult1      99210 non-null  int64  \n",
            " 22  ind_deme_fin_ult1      99210 non-null  int64  \n",
            " 23  ind_dela_fin_ult1      99210 non-null  int64  \n",
            " 24  ind_ecue_fin_ult1      99210 non-null  int64  \n",
            " 25  ind_fond_fin_ult1      99210 non-null  int64  \n",
            " 26  ind_hip_fin_ult1       99210 non-null  int64  \n",
            " 27  ind_plan_fin_ult1      99210 non-null  int64  \n",
            " 28  ind_pres_fin_ult1      99210 non-null  int64  \n",
            " 29  ind_reca_fin_ult1      99210 non-null  int64  \n",
            " 30  ind_tjcr_fin_ult1      99210 non-null  int64  \n",
            " 31  ind_valo_fin_ult1      99210 non-null  int64  \n",
            " 32  ind_viv_fin_ult1       99210 non-null  int64  \n",
            " 33  ind_nomina_ult1        99204 non-null  float64\n",
            " 34  ind_nom_pens_ult1      99204 non-null  float64\n",
            " 35  ind_recibo_ult1        99210 non-null  int64  \n",
            "dtypes: float64(5), int64(23), object(8)\n",
            "memory usage: 28.0+ MB\n"
          ]
        }
      ]
    },
    {
      "cell_type": "markdown",
      "source": [
        "## **Formato de los datos**"
      ],
      "metadata": {
        "id": "Uof-I5Jg2Ihy"
      }
    },
    {
      "cell_type": "code",
      "source": [
        "# Convertir las fechas al formato estándar Año-Mes-Día\n",
        "chunk[\"fecha_dato\"] = pd.to_datetime(chunk[\"fecha_dato\"],format=\"%Y-%m-%d\")\n",
        "chunk[\"fecha_alta\"] = pd.to_datetime(chunk[\"fecha_alta\"],format=\"%Y-%m-%d\")"
      ],
      "metadata": {
        "id": "7kzpRIqh2FRl"
      },
      "execution_count": null,
      "outputs": []
    },
    {
      "cell_type": "code",
      "source": [
        "# Nueva columna: month\n",
        "chunk[\"month\"] = pd.DatetimeIndex(chunk[\"fecha_alta\"]).month\n",
        "chunk[\"month\"].value_counts()"
      ],
      "metadata": {
        "colab": {
          "base_uri": "https://localhost:8080/"
        },
        "id": "HmWFcFfq2XZd",
        "outputId": "3183d7e2-7baa-4e1a-ae08-8e7d889d9036"
      },
      "execution_count": null,
      "outputs": [
        {
          "output_type": "execute_result",
          "data": {
            "text/plain": [
              "9     22446\n",
              "8     20204\n",
              "10    18480\n",
              "7     12144\n",
              "11    11038\n",
              "12     3955\n",
              "4      2260\n",
              "1      2241\n",
              "5      2165\n",
              "6      1580\n",
              "2      1414\n",
              "3      1283\n",
              "Name: month, dtype: int64"
            ]
          },
          "metadata": {},
          "execution_count": 48
        }
      ]
    },
    {
      "cell_type": "code",
      "source": [
        "# Nueva columna: year\n",
        "chunk[\"year\"] = pd.DatetimeIndex(chunk[\"fecha_alta\"]).year\n",
        "chunk.year.value_counts()"
      ],
      "metadata": {
        "colab": {
          "base_uri": "https://localhost:8080/"
        },
        "id": "cpNRjzSo2mw6",
        "outputId": "7aa22cb0-8f3a-4993-9f83-ad7a2e919990"
      },
      "execution_count": null,
      "outputs": [
        {
          "output_type": "execute_result",
          "data": {
            "text/plain": [
              "2012    70448\n",
              "2011    19352\n",
              "2013     7038\n",
              "2010     2152\n",
              "2014      199\n",
              "2015        9\n",
              "2005        2\n",
              "2002        2\n",
              "2003        2\n",
              "2006        2\n",
              "2007        1\n",
              "2004        1\n",
              "2008        1\n",
              "2009        1\n",
              "Name: year, dtype: int64"
            ]
          },
          "metadata": {},
          "execution_count": 49
        }
      ]
    },
    {
      "cell_type": "markdown",
      "source": [
        "## **Cuentas Corrientes**\n",
        "Se calcula el número total de cuentas corrientes por mes a partir del DataFrame y luego se muestra un gráfico de línea que representa la evolución de estas cuentas a lo largo del tiempo. (la variable ind_cco_fin_ult1 tiene que ver con las cuentas corrientes)."
      ],
      "metadata": {
        "id": "wZD4Bhes3al3"
      }
    },
    {
      "cell_type": "code",
      "source": [
        "grouped = chunk.groupby('month').aggregate({'ind_cco_fin_ult1': 'sum'}).reset_index()\n",
        "import plotly.express as px\n",
        "px.line(grouped, x=\"month\", y=\"ind_cco_fin_ult1\", title=\"Current Accounts by Month\")"
      ],
      "metadata": {
        "colab": {
          "base_uri": "https://localhost:8080/",
          "height": 542
        },
        "id": "bV0v6KpT3ohx",
        "outputId": "12303d06-ccf7-453a-d547-862c3e517dcf"
      },
      "execution_count": null,
      "outputs": [
        {
          "output_type": "display_data",
          "data": {
            "text/html": [
              "<html>\n",
              "<head><meta charset=\"utf-8\" /></head>\n",
              "<body>\n",
              "    <div>            <script src=\"https://cdnjs.cloudflare.com/ajax/libs/mathjax/2.7.5/MathJax.js?config=TeX-AMS-MML_SVG\"></script><script type=\"text/javascript\">if (window.MathJax && window.MathJax.Hub && window.MathJax.Hub.Config) {window.MathJax.Hub.Config({SVG: {font: \"STIX-Web\"}});}</script>                <script type=\"text/javascript\">window.PlotlyConfig = {MathJaxConfig: 'local'};</script>\n",
              "        <script charset=\"utf-8\" src=\"https://cdn.plot.ly/plotly-2.24.1.min.js\"></script>                <div id=\"caa3ffd3-6fda-4b69-979d-c2c8c140d6a7\" class=\"plotly-graph-div\" style=\"height:525px; width:100%;\"></div>            <script type=\"text/javascript\">                                    window.PLOTLYENV=window.PLOTLYENV || {};                                    if (document.getElementById(\"caa3ffd3-6fda-4b69-979d-c2c8c140d6a7\")) {                    Plotly.newPlot(                        \"caa3ffd3-6fda-4b69-979d-c2c8c140d6a7\",                        [{\"hovertemplate\":\"month=%{x}\\u003cbr\\u003eind_cco_fin_ult1=%{y}\\u003cextra\\u003e\\u003c\\u002fextra\\u003e\",\"legendgroup\":\"\",\"line\":{\"color\":\"#636efa\",\"dash\":\"solid\"},\"marker\":{\"symbol\":\"circle\"},\"mode\":\"lines\",\"name\":\"\",\"orientation\":\"v\",\"showlegend\":false,\"x\":[1,2,3,4,5,6,7,8,9,10,11,12],\"xaxis\":\"x\",\"y\":[1724,982,912,1659,1321,1001,11382,19036,21021,17203,10190,3462],\"yaxis\":\"y\",\"type\":\"scatter\"}],                        {\"template\":{\"data\":{\"histogram2dcontour\":[{\"type\":\"histogram2dcontour\",\"colorbar\":{\"outlinewidth\":0,\"ticks\":\"\"},\"colorscale\":[[0.0,\"#0d0887\"],[0.1111111111111111,\"#46039f\"],[0.2222222222222222,\"#7201a8\"],[0.3333333333333333,\"#9c179e\"],[0.4444444444444444,\"#bd3786\"],[0.5555555555555556,\"#d8576b\"],[0.6666666666666666,\"#ed7953\"],[0.7777777777777778,\"#fb9f3a\"],[0.8888888888888888,\"#fdca26\"],[1.0,\"#f0f921\"]]}],\"choropleth\":[{\"type\":\"choropleth\",\"colorbar\":{\"outlinewidth\":0,\"ticks\":\"\"}}],\"histogram2d\":[{\"type\":\"histogram2d\",\"colorbar\":{\"outlinewidth\":0,\"ticks\":\"\"},\"colorscale\":[[0.0,\"#0d0887\"],[0.1111111111111111,\"#46039f\"],[0.2222222222222222,\"#7201a8\"],[0.3333333333333333,\"#9c179e\"],[0.4444444444444444,\"#bd3786\"],[0.5555555555555556,\"#d8576b\"],[0.6666666666666666,\"#ed7953\"],[0.7777777777777778,\"#fb9f3a\"],[0.8888888888888888,\"#fdca26\"],[1.0,\"#f0f921\"]]}],\"heatmap\":[{\"type\":\"heatmap\",\"colorbar\":{\"outlinewidth\":0,\"ticks\":\"\"},\"colorscale\":[[0.0,\"#0d0887\"],[0.1111111111111111,\"#46039f\"],[0.2222222222222222,\"#7201a8\"],[0.3333333333333333,\"#9c179e\"],[0.4444444444444444,\"#bd3786\"],[0.5555555555555556,\"#d8576b\"],[0.6666666666666666,\"#ed7953\"],[0.7777777777777778,\"#fb9f3a\"],[0.8888888888888888,\"#fdca26\"],[1.0,\"#f0f921\"]]}],\"heatmapgl\":[{\"type\":\"heatmapgl\",\"colorbar\":{\"outlinewidth\":0,\"ticks\":\"\"},\"colorscale\":[[0.0,\"#0d0887\"],[0.1111111111111111,\"#46039f\"],[0.2222222222222222,\"#7201a8\"],[0.3333333333333333,\"#9c179e\"],[0.4444444444444444,\"#bd3786\"],[0.5555555555555556,\"#d8576b\"],[0.6666666666666666,\"#ed7953\"],[0.7777777777777778,\"#fb9f3a\"],[0.8888888888888888,\"#fdca26\"],[1.0,\"#f0f921\"]]}],\"contourcarpet\":[{\"type\":\"contourcarpet\",\"colorbar\":{\"outlinewidth\":0,\"ticks\":\"\"}}],\"contour\":[{\"type\":\"contour\",\"colorbar\":{\"outlinewidth\":0,\"ticks\":\"\"},\"colorscale\":[[0.0,\"#0d0887\"],[0.1111111111111111,\"#46039f\"],[0.2222222222222222,\"#7201a8\"],[0.3333333333333333,\"#9c179e\"],[0.4444444444444444,\"#bd3786\"],[0.5555555555555556,\"#d8576b\"],[0.6666666666666666,\"#ed7953\"],[0.7777777777777778,\"#fb9f3a\"],[0.8888888888888888,\"#fdca26\"],[1.0,\"#f0f921\"]]}],\"surface\":[{\"type\":\"surface\",\"colorbar\":{\"outlinewidth\":0,\"ticks\":\"\"},\"colorscale\":[[0.0,\"#0d0887\"],[0.1111111111111111,\"#46039f\"],[0.2222222222222222,\"#7201a8\"],[0.3333333333333333,\"#9c179e\"],[0.4444444444444444,\"#bd3786\"],[0.5555555555555556,\"#d8576b\"],[0.6666666666666666,\"#ed7953\"],[0.7777777777777778,\"#fb9f3a\"],[0.8888888888888888,\"#fdca26\"],[1.0,\"#f0f921\"]]}],\"mesh3d\":[{\"type\":\"mesh3d\",\"colorbar\":{\"outlinewidth\":0,\"ticks\":\"\"}}],\"scatter\":[{\"fillpattern\":{\"fillmode\":\"overlay\",\"size\":10,\"solidity\":0.2},\"type\":\"scatter\"}],\"parcoords\":[{\"type\":\"parcoords\",\"line\":{\"colorbar\":{\"outlinewidth\":0,\"ticks\":\"\"}}}],\"scatterpolargl\":[{\"type\":\"scatterpolargl\",\"marker\":{\"colorbar\":{\"outlinewidth\":0,\"ticks\":\"\"}}}],\"bar\":[{\"error_x\":{\"color\":\"#2a3f5f\"},\"error_y\":{\"color\":\"#2a3f5f\"},\"marker\":{\"line\":{\"color\":\"#E5ECF6\",\"width\":0.5},\"pattern\":{\"fillmode\":\"overlay\",\"size\":10,\"solidity\":0.2}},\"type\":\"bar\"}],\"scattergeo\":[{\"type\":\"scattergeo\",\"marker\":{\"colorbar\":{\"outlinewidth\":0,\"ticks\":\"\"}}}],\"scatterpolar\":[{\"type\":\"scatterpolar\",\"marker\":{\"colorbar\":{\"outlinewidth\":0,\"ticks\":\"\"}}}],\"histogram\":[{\"marker\":{\"pattern\":{\"fillmode\":\"overlay\",\"size\":10,\"solidity\":0.2}},\"type\":\"histogram\"}],\"scattergl\":[{\"type\":\"scattergl\",\"marker\":{\"colorbar\":{\"outlinewidth\":0,\"ticks\":\"\"}}}],\"scatter3d\":[{\"type\":\"scatter3d\",\"line\":{\"colorbar\":{\"outlinewidth\":0,\"ticks\":\"\"}},\"marker\":{\"colorbar\":{\"outlinewidth\":0,\"ticks\":\"\"}}}],\"scattermapbox\":[{\"type\":\"scattermapbox\",\"marker\":{\"colorbar\":{\"outlinewidth\":0,\"ticks\":\"\"}}}],\"scatterternary\":[{\"type\":\"scatterternary\",\"marker\":{\"colorbar\":{\"outlinewidth\":0,\"ticks\":\"\"}}}],\"scattercarpet\":[{\"type\":\"scattercarpet\",\"marker\":{\"colorbar\":{\"outlinewidth\":0,\"ticks\":\"\"}}}],\"carpet\":[{\"aaxis\":{\"endlinecolor\":\"#2a3f5f\",\"gridcolor\":\"white\",\"linecolor\":\"white\",\"minorgridcolor\":\"white\",\"startlinecolor\":\"#2a3f5f\"},\"baxis\":{\"endlinecolor\":\"#2a3f5f\",\"gridcolor\":\"white\",\"linecolor\":\"white\",\"minorgridcolor\":\"white\",\"startlinecolor\":\"#2a3f5f\"},\"type\":\"carpet\"}],\"table\":[{\"cells\":{\"fill\":{\"color\":\"#EBF0F8\"},\"line\":{\"color\":\"white\"}},\"header\":{\"fill\":{\"color\":\"#C8D4E3\"},\"line\":{\"color\":\"white\"}},\"type\":\"table\"}],\"barpolar\":[{\"marker\":{\"line\":{\"color\":\"#E5ECF6\",\"width\":0.5},\"pattern\":{\"fillmode\":\"overlay\",\"size\":10,\"solidity\":0.2}},\"type\":\"barpolar\"}],\"pie\":[{\"automargin\":true,\"type\":\"pie\"}]},\"layout\":{\"autotypenumbers\":\"strict\",\"colorway\":[\"#636efa\",\"#EF553B\",\"#00cc96\",\"#ab63fa\",\"#FFA15A\",\"#19d3f3\",\"#FF6692\",\"#B6E880\",\"#FF97FF\",\"#FECB52\"],\"font\":{\"color\":\"#2a3f5f\"},\"hovermode\":\"closest\",\"hoverlabel\":{\"align\":\"left\"},\"paper_bgcolor\":\"white\",\"plot_bgcolor\":\"#E5ECF6\",\"polar\":{\"bgcolor\":\"#E5ECF6\",\"angularaxis\":{\"gridcolor\":\"white\",\"linecolor\":\"white\",\"ticks\":\"\"},\"radialaxis\":{\"gridcolor\":\"white\",\"linecolor\":\"white\",\"ticks\":\"\"}},\"ternary\":{\"bgcolor\":\"#E5ECF6\",\"aaxis\":{\"gridcolor\":\"white\",\"linecolor\":\"white\",\"ticks\":\"\"},\"baxis\":{\"gridcolor\":\"white\",\"linecolor\":\"white\",\"ticks\":\"\"},\"caxis\":{\"gridcolor\":\"white\",\"linecolor\":\"white\",\"ticks\":\"\"}},\"coloraxis\":{\"colorbar\":{\"outlinewidth\":0,\"ticks\":\"\"}},\"colorscale\":{\"sequential\":[[0.0,\"#0d0887\"],[0.1111111111111111,\"#46039f\"],[0.2222222222222222,\"#7201a8\"],[0.3333333333333333,\"#9c179e\"],[0.4444444444444444,\"#bd3786\"],[0.5555555555555556,\"#d8576b\"],[0.6666666666666666,\"#ed7953\"],[0.7777777777777778,\"#fb9f3a\"],[0.8888888888888888,\"#fdca26\"],[1.0,\"#f0f921\"]],\"sequentialminus\":[[0.0,\"#0d0887\"],[0.1111111111111111,\"#46039f\"],[0.2222222222222222,\"#7201a8\"],[0.3333333333333333,\"#9c179e\"],[0.4444444444444444,\"#bd3786\"],[0.5555555555555556,\"#d8576b\"],[0.6666666666666666,\"#ed7953\"],[0.7777777777777778,\"#fb9f3a\"],[0.8888888888888888,\"#fdca26\"],[1.0,\"#f0f921\"]],\"diverging\":[[0,\"#8e0152\"],[0.1,\"#c51b7d\"],[0.2,\"#de77ae\"],[0.3,\"#f1b6da\"],[0.4,\"#fde0ef\"],[0.5,\"#f7f7f7\"],[0.6,\"#e6f5d0\"],[0.7,\"#b8e186\"],[0.8,\"#7fbc41\"],[0.9,\"#4d9221\"],[1,\"#276419\"]]},\"xaxis\":{\"gridcolor\":\"white\",\"linecolor\":\"white\",\"ticks\":\"\",\"title\":{\"standoff\":15},\"zerolinecolor\":\"white\",\"automargin\":true,\"zerolinewidth\":2},\"yaxis\":{\"gridcolor\":\"white\",\"linecolor\":\"white\",\"ticks\":\"\",\"title\":{\"standoff\":15},\"zerolinecolor\":\"white\",\"automargin\":true,\"zerolinewidth\":2},\"scene\":{\"xaxis\":{\"backgroundcolor\":\"#E5ECF6\",\"gridcolor\":\"white\",\"linecolor\":\"white\",\"showbackground\":true,\"ticks\":\"\",\"zerolinecolor\":\"white\",\"gridwidth\":2},\"yaxis\":{\"backgroundcolor\":\"#E5ECF6\",\"gridcolor\":\"white\",\"linecolor\":\"white\",\"showbackground\":true,\"ticks\":\"\",\"zerolinecolor\":\"white\",\"gridwidth\":2},\"zaxis\":{\"backgroundcolor\":\"#E5ECF6\",\"gridcolor\":\"white\",\"linecolor\":\"white\",\"showbackground\":true,\"ticks\":\"\",\"zerolinecolor\":\"white\",\"gridwidth\":2}},\"shapedefaults\":{\"line\":{\"color\":\"#2a3f5f\"}},\"annotationdefaults\":{\"arrowcolor\":\"#2a3f5f\",\"arrowhead\":0,\"arrowwidth\":1},\"geo\":{\"bgcolor\":\"white\",\"landcolor\":\"#E5ECF6\",\"subunitcolor\":\"white\",\"showland\":true,\"showlakes\":true,\"lakecolor\":\"white\"},\"title\":{\"x\":0.05},\"mapbox\":{\"style\":\"light\"}}},\"xaxis\":{\"anchor\":\"y\",\"domain\":[0.0,1.0],\"title\":{\"text\":\"month\"}},\"yaxis\":{\"anchor\":\"x\",\"domain\":[0.0,1.0],\"title\":{\"text\":\"ind_cco_fin_ult1\"}},\"legend\":{\"tracegroupgap\":0},\"title\":{\"text\":\"Current Accounts by Month\"}},                        {\"responsive\": true}                    ).then(function(){\n",
              "                            \n",
              "var gd = document.getElementById('caa3ffd3-6fda-4b69-979d-c2c8c140d6a7');\n",
              "var x = new MutationObserver(function (mutations, observer) {{\n",
              "        var display = window.getComputedStyle(gd).display;\n",
              "        if (!display || display === 'none') {{\n",
              "            console.log([gd, 'removed!']);\n",
              "            Plotly.purge(gd);\n",
              "            observer.disconnect();\n",
              "        }}\n",
              "}});\n",
              "\n",
              "// Listen for the removal of the full notebook cells\n",
              "var notebookContainer = gd.closest('#notebook-container');\n",
              "if (notebookContainer) {{\n",
              "    x.observe(notebookContainer, {childList: true});\n",
              "}}\n",
              "\n",
              "// Listen for the clearing of the current output cell\n",
              "var outputEl = gd.closest('.output');\n",
              "if (outputEl) {{\n",
              "    x.observe(outputEl, {childList: true});\n",
              "}}\n",
              "\n",
              "                        })                };                            </script>        </div>\n",
              "</body>\n",
              "</html>"
            ]
          },
          "metadata": {}
        }
      ]
    },
    {
      "cell_type": "markdown",
      "source": [
        "## **Label Encoder: Variable Sexo**\n",
        "- Se aplica label encoder a la variable sexo para covertir los valores no numéricos a numéricos.\n"
      ],
      "metadata": {
        "id": "FCYtAXdzCY2c"
      }
    },
    {
      "cell_type": "code",
      "source": [
        "le = LabelEncoder()\n",
        "chunk.sexo = le.fit_transform(chunk['sexo'])"
      ],
      "metadata": {
        "id": "z7snSaZ8ByGQ"
      },
      "execution_count": null,
      "outputs": []
    },
    {
      "cell_type": "markdown",
      "source": [
        "## **Variable: tiprel_1mes**\n",
        "- La variable tiprel_1mes se trata de el tipo de relación con el cliente al comienzo del mes: A (activo), I (inactivo), P (cliente anterior). Se realiza el conteo de los valores de esta variable."
      ],
      "metadata": {
        "id": "hEHHh8s_Ched"
      }
    },
    {
      "cell_type": "code",
      "source": [
        "chunk['tiprel_1mes'].value_counts()"
      ],
      "metadata": {
        "colab": {
          "base_uri": "https://localhost:8080/"
        },
        "id": "hQDKkTCICFmH",
        "outputId": "6bfd2010-de2f-4777-ca87-db1e55995b99"
      },
      "execution_count": null,
      "outputs": [
        {
          "output_type": "execute_result",
          "data": {
            "text/plain": [
              "I    62783\n",
              "A    36424\n",
              "P        3\n",
              "Name: tiprel_1mes, dtype: int64"
            ]
          },
          "metadata": {},
          "execution_count": 53
        }
      ]
    },
    {
      "cell_type": "markdown",
      "source": [
        "- Como solo hay tres clientes anteriores, los reemplazaré como \"inactivo\" para tener menos label, en este caso se reemplaza por 0 y 1 (0 --- I) (1 --- A) se verifica que los valores fueron añadidos al label 0."
      ],
      "metadata": {
        "id": "FtHQjt7cCNJa"
      }
    },
    {
      "cell_type": "code",
      "source": [
        "chunk['tiprel_1mes'].replace(to_replace = [\"I\", \"A\", \"P\"], value = [0, 1, 0], inplace = True)\n",
        "chunk['tiprel_1mes'].value_counts()"
      ],
      "metadata": {
        "colab": {
          "base_uri": "https://localhost:8080/"
        },
        "id": "Z1hw6K40CMk7",
        "outputId": "8d8c3ccd-0540-439c-9073-5873c05345c6"
      },
      "execution_count": null,
      "outputs": [
        {
          "output_type": "execute_result",
          "data": {
            "text/plain": [
              "0    62786\n",
              "1    36424\n",
              "Name: tiprel_1mes, dtype: int64"
            ]
          },
          "metadata": {},
          "execution_count": 54
        }
      ]
    },
    {
      "cell_type": "markdown",
      "source": [
        "## **Variable: Segmento**\n",
        "- En la variable segmento se divide los tipos de clientes: 01 - VIP (TOP), 02 - Individuals (PARTICULARES) 03 - college graduated (UNIVERSITARIO)"
      ],
      "metadata": {
        "id": "ka7Re-mhC3_U"
      }
    },
    {
      "cell_type": "code",
      "source": [
        "chunk['segmento'].value_counts()"
      ],
      "metadata": {
        "colab": {
          "base_uri": "https://localhost:8080/"
        },
        "id": "l56ZiHdnC-Vg",
        "outputId": "1824db97-8608-4b82-8e03-72bd9399c7ff"
      },
      "execution_count": null,
      "outputs": [
        {
          "output_type": "execute_result",
          "data": {
            "text/plain": [
              "03 - UNIVERSITARIO    75120\n",
              "02 - PARTICULARES     22854\n",
              "01 - TOP               1228\n",
              "Name: segmento, dtype: int64"
            ]
          },
          "metadata": {},
          "execution_count": 55
        }
      ]
    },
    {
      "cell_type": "markdown",
      "source": [
        "- Se reemplaza los valores específicos en la columna 'segmento' del DataFrame por nuevos valores ('Grad', 'Ind', 'VIP'). Luego, se muestra la frecuencia de cada valor único en la columna 'segmento' después de los reemplazos. Esto permite analizar la distribución de los nuevos valores en la columna 'segmento'."
      ],
      "metadata": {
        "id": "8xLa-IEmDBev"
      }
    },
    {
      "cell_type": "code",
      "source": [
        "sub_segment = [\"03 - UNIVERSITARIO\", \"02 - PARTICULARES\", '01 - TOP']\n",
        "chunk['segmento'].replace(to_replace = sub_segment, value = ['Grad', 'Ind', 'VIP'], inplace = True)\n",
        "chunk['segmento'].value_counts()"
      ],
      "metadata": {
        "colab": {
          "base_uri": "https://localhost:8080/"
        },
        "id": "-79E58f7DsSE",
        "outputId": "e08223bf-caee-43fb-df49-8dddbcd074db"
      },
      "execution_count": null,
      "outputs": [
        {
          "output_type": "execute_result",
          "data": {
            "text/plain": [
              "Grad    75120\n",
              "Ind     22854\n",
              "VIP      1228\n",
              "Name: segmento, dtype: int64"
            ]
          },
          "metadata": {},
          "execution_count": 56
        }
      ]
    },
    {
      "cell_type": "markdown",
      "source": [
        "- Se crea una copia de la columna 'segmento', ya que podríamos necesitarla más adelante, y luego se realiza la codificación.\n",
        "\n"
      ],
      "metadata": {
        "id": "aDmmFgqnDuSr"
      }
    },
    {
      "cell_type": "code",
      "source": [
        "chunk['seg'] = chunk['segmento']\n"
      ],
      "metadata": {
        "id": "qIoxUrMqFOYy"
      },
      "execution_count": null,
      "outputs": []
    },
    {
      "cell_type": "markdown",
      "source": [
        "## **One Hot Encoding**\n",
        "Se realiza la codificación one-hot de la columna 'seg' del DataFrame, lo que implica crear nuevas columnas ficticias para cada valor único en 'seg'.\n",
        "\n",
        "Se muestra las primeras tres filas del DataFrame verificando que la codificación se realizó correctamente."
      ],
      "metadata": {
        "id": "KfNIZUIfFWcQ"
      }
    },
    {
      "cell_type": "code",
      "source": [
        "chunk = pd.get_dummies(chunk, columns = ['seg'])\n",
        "chunk.head(3)"
      ],
      "metadata": {
        "colab": {
          "base_uri": "https://localhost:8080/",
          "height": 228
        },
        "id": "nno5Q3eMGIdJ",
        "outputId": "145454b3-7120-4bdb-e357-c67a962aac6f"
      },
      "execution_count": null,
      "outputs": [
        {
          "output_type": "execute_result",
          "data": {
            "text/plain": [
              "  fecha_dato  ncodpers  sexo  age fecha_alta antiguedad  tiprel_1mes  \\\n",
              "0 2015-01-28   1375586     0   35 2015-01-12          6            1   \n",
              "1 2015-01-28   1050611     1   23 2012-08-10         35            0   \n",
              "2 2015-01-28   1050612     1   23 2012-08-10         35            0   \n",
              "\n",
              "   cod_prov      nomprov  ind_actividad_cliente  ...  ind_valo_fin_ult1  \\\n",
              "0      29.0       MALAGA                    1.0  ...                  0   \n",
              "1      13.0  CIUDAD REAL                    0.0  ...                  0   \n",
              "2      13.0  CIUDAD REAL                    0.0  ...                  0   \n",
              "\n",
              "  ind_viv_fin_ult1  ind_nomina_ult1  ind_nom_pens_ult1  ind_recibo_ult1  \\\n",
              "0                0              0.0                0.0                0   \n",
              "1                0              0.0                0.0                0   \n",
              "2                0              0.0                0.0                0   \n",
              "\n",
              "   month  year  seg_Grad  seg_Ind  seg_VIP  \n",
              "0      1  2015         0        1        0  \n",
              "1      8  2012         1        0        0  \n",
              "2      8  2012         1        0        0  \n",
              "\n",
              "[3 rows x 41 columns]"
            ],
            "text/html": [
              "\n",
              "  <div id=\"df-861ac752-3215-4c11-a5b5-7cd4c3f3d7cd\" class=\"colab-df-container\">\n",
              "    <div>\n",
              "<style scoped>\n",
              "    .dataframe tbody tr th:only-of-type {\n",
              "        vertical-align: middle;\n",
              "    }\n",
              "\n",
              "    .dataframe tbody tr th {\n",
              "        vertical-align: top;\n",
              "    }\n",
              "\n",
              "    .dataframe thead th {\n",
              "        text-align: right;\n",
              "    }\n",
              "</style>\n",
              "<table border=\"1\" class=\"dataframe\">\n",
              "  <thead>\n",
              "    <tr style=\"text-align: right;\">\n",
              "      <th></th>\n",
              "      <th>fecha_dato</th>\n",
              "      <th>ncodpers</th>\n",
              "      <th>sexo</th>\n",
              "      <th>age</th>\n",
              "      <th>fecha_alta</th>\n",
              "      <th>antiguedad</th>\n",
              "      <th>tiprel_1mes</th>\n",
              "      <th>cod_prov</th>\n",
              "      <th>nomprov</th>\n",
              "      <th>ind_actividad_cliente</th>\n",
              "      <th>...</th>\n",
              "      <th>ind_valo_fin_ult1</th>\n",
              "      <th>ind_viv_fin_ult1</th>\n",
              "      <th>ind_nomina_ult1</th>\n",
              "      <th>ind_nom_pens_ult1</th>\n",
              "      <th>ind_recibo_ult1</th>\n",
              "      <th>month</th>\n",
              "      <th>year</th>\n",
              "      <th>seg_Grad</th>\n",
              "      <th>seg_Ind</th>\n",
              "      <th>seg_VIP</th>\n",
              "    </tr>\n",
              "  </thead>\n",
              "  <tbody>\n",
              "    <tr>\n",
              "      <th>0</th>\n",
              "      <td>2015-01-28</td>\n",
              "      <td>1375586</td>\n",
              "      <td>0</td>\n",
              "      <td>35</td>\n",
              "      <td>2015-01-12</td>\n",
              "      <td>6</td>\n",
              "      <td>1</td>\n",
              "      <td>29.0</td>\n",
              "      <td>MALAGA</td>\n",
              "      <td>1.0</td>\n",
              "      <td>...</td>\n",
              "      <td>0</td>\n",
              "      <td>0</td>\n",
              "      <td>0.0</td>\n",
              "      <td>0.0</td>\n",
              "      <td>0</td>\n",
              "      <td>1</td>\n",
              "      <td>2015</td>\n",
              "      <td>0</td>\n",
              "      <td>1</td>\n",
              "      <td>0</td>\n",
              "    </tr>\n",
              "    <tr>\n",
              "      <th>1</th>\n",
              "      <td>2015-01-28</td>\n",
              "      <td>1050611</td>\n",
              "      <td>1</td>\n",
              "      <td>23</td>\n",
              "      <td>2012-08-10</td>\n",
              "      <td>35</td>\n",
              "      <td>0</td>\n",
              "      <td>13.0</td>\n",
              "      <td>CIUDAD REAL</td>\n",
              "      <td>0.0</td>\n",
              "      <td>...</td>\n",
              "      <td>0</td>\n",
              "      <td>0</td>\n",
              "      <td>0.0</td>\n",
              "      <td>0.0</td>\n",
              "      <td>0</td>\n",
              "      <td>8</td>\n",
              "      <td>2012</td>\n",
              "      <td>1</td>\n",
              "      <td>0</td>\n",
              "      <td>0</td>\n",
              "    </tr>\n",
              "    <tr>\n",
              "      <th>2</th>\n",
              "      <td>2015-01-28</td>\n",
              "      <td>1050612</td>\n",
              "      <td>1</td>\n",
              "      <td>23</td>\n",
              "      <td>2012-08-10</td>\n",
              "      <td>35</td>\n",
              "      <td>0</td>\n",
              "      <td>13.0</td>\n",
              "      <td>CIUDAD REAL</td>\n",
              "      <td>0.0</td>\n",
              "      <td>...</td>\n",
              "      <td>0</td>\n",
              "      <td>0</td>\n",
              "      <td>0.0</td>\n",
              "      <td>0.0</td>\n",
              "      <td>0</td>\n",
              "      <td>8</td>\n",
              "      <td>2012</td>\n",
              "      <td>1</td>\n",
              "      <td>0</td>\n",
              "      <td>0</td>\n",
              "    </tr>\n",
              "  </tbody>\n",
              "</table>\n",
              "<p>3 rows × 41 columns</p>\n",
              "</div>\n",
              "    <div class=\"colab-df-buttons\">\n",
              "\n",
              "  <div class=\"colab-df-container\">\n",
              "    <button class=\"colab-df-convert\" onclick=\"convertToInteractive('df-861ac752-3215-4c11-a5b5-7cd4c3f3d7cd')\"\n",
              "            title=\"Convert this dataframe to an interactive table.\"\n",
              "            style=\"display:none;\">\n",
              "\n",
              "  <svg xmlns=\"http://www.w3.org/2000/svg\" height=\"24px\" viewBox=\"0 -960 960 960\">\n",
              "    <path d=\"M120-120v-720h720v720H120Zm60-500h600v-160H180v160Zm220 220h160v-160H400v160Zm0 220h160v-160H400v160ZM180-400h160v-160H180v160Zm440 0h160v-160H620v160ZM180-180h160v-160H180v160Zm440 0h160v-160H620v160Z\"/>\n",
              "  </svg>\n",
              "    </button>\n",
              "\n",
              "  <style>\n",
              "    .colab-df-container {\n",
              "      display:flex;\n",
              "      gap: 12px;\n",
              "    }\n",
              "\n",
              "    .colab-df-convert {\n",
              "      background-color: #E8F0FE;\n",
              "      border: none;\n",
              "      border-radius: 50%;\n",
              "      cursor: pointer;\n",
              "      display: none;\n",
              "      fill: #1967D2;\n",
              "      height: 32px;\n",
              "      padding: 0 0 0 0;\n",
              "      width: 32px;\n",
              "    }\n",
              "\n",
              "    .colab-df-convert:hover {\n",
              "      background-color: #E2EBFA;\n",
              "      box-shadow: 0px 1px 2px rgba(60, 64, 67, 0.3), 0px 1px 3px 1px rgba(60, 64, 67, 0.15);\n",
              "      fill: #174EA6;\n",
              "    }\n",
              "\n",
              "    .colab-df-buttons div {\n",
              "      margin-bottom: 4px;\n",
              "    }\n",
              "\n",
              "    [theme=dark] .colab-df-convert {\n",
              "      background-color: #3B4455;\n",
              "      fill: #D2E3FC;\n",
              "    }\n",
              "\n",
              "    [theme=dark] .colab-df-convert:hover {\n",
              "      background-color: #434B5C;\n",
              "      box-shadow: 0px 1px 3px 1px rgba(0, 0, 0, 0.15);\n",
              "      filter: drop-shadow(0px 1px 2px rgba(0, 0, 0, 0.3));\n",
              "      fill: #FFFFFF;\n",
              "    }\n",
              "  </style>\n",
              "\n",
              "    <script>\n",
              "      const buttonEl =\n",
              "        document.querySelector('#df-861ac752-3215-4c11-a5b5-7cd4c3f3d7cd button.colab-df-convert');\n",
              "      buttonEl.style.display =\n",
              "        google.colab.kernel.accessAllowed ? 'block' : 'none';\n",
              "\n",
              "      async function convertToInteractive(key) {\n",
              "        const element = document.querySelector('#df-861ac752-3215-4c11-a5b5-7cd4c3f3d7cd');\n",
              "        const dataTable =\n",
              "          await google.colab.kernel.invokeFunction('convertToInteractive',\n",
              "                                                    [key], {});\n",
              "        if (!dataTable) return;\n",
              "\n",
              "        const docLinkHtml = 'Like what you see? Visit the ' +\n",
              "          '<a target=\"_blank\" href=https://colab.research.google.com/notebooks/data_table.ipynb>data table notebook</a>'\n",
              "          + ' to learn more about interactive tables.';\n",
              "        element.innerHTML = '';\n",
              "        dataTable['output_type'] = 'display_data';\n",
              "        await google.colab.output.renderOutput(dataTable, element);\n",
              "        const docLink = document.createElement('div');\n",
              "        docLink.innerHTML = docLinkHtml;\n",
              "        element.appendChild(docLink);\n",
              "      }\n",
              "    </script>\n",
              "  </div>\n",
              "\n",
              "\n",
              "<div id=\"df-b137812a-a008-4133-82e0-6fdd33ac7531\">\n",
              "  <button class=\"colab-df-quickchart\" onclick=\"quickchart('df-b137812a-a008-4133-82e0-6fdd33ac7531')\"\n",
              "            title=\"Suggest charts.\"\n",
              "            style=\"display:none;\">\n",
              "\n",
              "<svg xmlns=\"http://www.w3.org/2000/svg\" height=\"24px\"viewBox=\"0 0 24 24\"\n",
              "     width=\"24px\">\n",
              "    <g>\n",
              "        <path d=\"M19 3H5c-1.1 0-2 .9-2 2v14c0 1.1.9 2 2 2h14c1.1 0 2-.9 2-2V5c0-1.1-.9-2-2-2zM9 17H7v-7h2v7zm4 0h-2V7h2v10zm4 0h-2v-4h2v4z\"/>\n",
              "    </g>\n",
              "</svg>\n",
              "  </button>\n",
              "\n",
              "<style>\n",
              "  .colab-df-quickchart {\n",
              "      --bg-color: #E8F0FE;\n",
              "      --fill-color: #1967D2;\n",
              "      --hover-bg-color: #E2EBFA;\n",
              "      --hover-fill-color: #174EA6;\n",
              "      --disabled-fill-color: #AAA;\n",
              "      --disabled-bg-color: #DDD;\n",
              "  }\n",
              "\n",
              "  [theme=dark] .colab-df-quickchart {\n",
              "      --bg-color: #3B4455;\n",
              "      --fill-color: #D2E3FC;\n",
              "      --hover-bg-color: #434B5C;\n",
              "      --hover-fill-color: #FFFFFF;\n",
              "      --disabled-bg-color: #3B4455;\n",
              "      --disabled-fill-color: #666;\n",
              "  }\n",
              "\n",
              "  .colab-df-quickchart {\n",
              "    background-color: var(--bg-color);\n",
              "    border: none;\n",
              "    border-radius: 50%;\n",
              "    cursor: pointer;\n",
              "    display: none;\n",
              "    fill: var(--fill-color);\n",
              "    height: 32px;\n",
              "    padding: 0;\n",
              "    width: 32px;\n",
              "  }\n",
              "\n",
              "  .colab-df-quickchart:hover {\n",
              "    background-color: var(--hover-bg-color);\n",
              "    box-shadow: 0 1px 2px rgba(60, 64, 67, 0.3), 0 1px 3px 1px rgba(60, 64, 67, 0.15);\n",
              "    fill: var(--button-hover-fill-color);\n",
              "  }\n",
              "\n",
              "  .colab-df-quickchart-complete:disabled,\n",
              "  .colab-df-quickchart-complete:disabled:hover {\n",
              "    background-color: var(--disabled-bg-color);\n",
              "    fill: var(--disabled-fill-color);\n",
              "    box-shadow: none;\n",
              "  }\n",
              "\n",
              "  .colab-df-spinner {\n",
              "    border: 2px solid var(--fill-color);\n",
              "    border-color: transparent;\n",
              "    border-bottom-color: var(--fill-color);\n",
              "    animation:\n",
              "      spin 1s steps(1) infinite;\n",
              "  }\n",
              "\n",
              "  @keyframes spin {\n",
              "    0% {\n",
              "      border-color: transparent;\n",
              "      border-bottom-color: var(--fill-color);\n",
              "      border-left-color: var(--fill-color);\n",
              "    }\n",
              "    20% {\n",
              "      border-color: transparent;\n",
              "      border-left-color: var(--fill-color);\n",
              "      border-top-color: var(--fill-color);\n",
              "    }\n",
              "    30% {\n",
              "      border-color: transparent;\n",
              "      border-left-color: var(--fill-color);\n",
              "      border-top-color: var(--fill-color);\n",
              "      border-right-color: var(--fill-color);\n",
              "    }\n",
              "    40% {\n",
              "      border-color: transparent;\n",
              "      border-right-color: var(--fill-color);\n",
              "      border-top-color: var(--fill-color);\n",
              "    }\n",
              "    60% {\n",
              "      border-color: transparent;\n",
              "      border-right-color: var(--fill-color);\n",
              "    }\n",
              "    80% {\n",
              "      border-color: transparent;\n",
              "      border-right-color: var(--fill-color);\n",
              "      border-bottom-color: var(--fill-color);\n",
              "    }\n",
              "    90% {\n",
              "      border-color: transparent;\n",
              "      border-bottom-color: var(--fill-color);\n",
              "    }\n",
              "  }\n",
              "</style>\n",
              "\n",
              "  <script>\n",
              "    async function quickchart(key) {\n",
              "      const quickchartButtonEl =\n",
              "        document.querySelector('#' + key + ' button');\n",
              "      quickchartButtonEl.disabled = true;  // To prevent multiple clicks.\n",
              "      quickchartButtonEl.classList.add('colab-df-spinner');\n",
              "      try {\n",
              "        const charts = await google.colab.kernel.invokeFunction(\n",
              "            'suggestCharts', [key], {});\n",
              "      } catch (error) {\n",
              "        console.error('Error during call to suggestCharts:', error);\n",
              "      }\n",
              "      quickchartButtonEl.classList.remove('colab-df-spinner');\n",
              "      quickchartButtonEl.classList.add('colab-df-quickchart-complete');\n",
              "    }\n",
              "    (() => {\n",
              "      let quickchartButtonEl =\n",
              "        document.querySelector('#df-b137812a-a008-4133-82e0-6fdd33ac7531 button');\n",
              "      quickchartButtonEl.style.display =\n",
              "        google.colab.kernel.accessAllowed ? 'block' : 'none';\n",
              "    })();\n",
              "  </script>\n",
              "</div>\n",
              "    </div>\n",
              "  </div>\n"
            ]
          },
          "metadata": {},
          "execution_count": 58
        }
      ]
    },
    {
      "cell_type": "markdown",
      "source": [
        "## **Variable: int_columns**\n",
        "\n",
        "- Se crea la variable int_columns la cual contiene la edad, antiguedad y renta, estas variables son numericas pero en la base de datos son de tipo object, por lo que se convierten en varaibles numéricas"
      ],
      "metadata": {
        "id": "rvOObVqJGO_E"
      }
    },
    {
      "cell_type": "code",
      "source": [
        "int_columns = ['age', 'antiguedad', 'renta']\n",
        "for column in int_columns:\n",
        "    chunk[column] = pd.to_numeric(chunk[column])"
      ],
      "metadata": {
        "id": "eoyKurVjGKKj"
      },
      "execution_count": null,
      "outputs": []
    },
    {
      "cell_type": "markdown",
      "source": [
        "# **Analisis Univarible: Variable Edad**\n"
      ],
      "metadata": {
        "id": "T0GxG4dTGfQv"
      }
    },
    {
      "cell_type": "markdown",
      "source": [
        "### **Estadisticas descriptivas**\n",
        "- Se muestra estadísticas descriptivas que nos permiten obtener una comprensión rápida de la distribución y características de los valores de edad en el conjunto de datos."
      ],
      "metadata": {
        "id": "PGAn-haDGyBv"
      }
    },
    {
      "cell_type": "code",
      "source": [
        "chunk.age.describe()"
      ],
      "metadata": {
        "colab": {
          "base_uri": "https://localhost:8080/"
        },
        "id": "NPZMbVDiGezS",
        "outputId": "556f474a-434c-485c-80a9-26396e175845"
      },
      "execution_count": null,
      "outputs": [
        {
          "output_type": "execute_result",
          "data": {
            "text/plain": [
              "count    99210.000000\n",
              "mean        29.329160\n",
              "std         10.526078\n",
              "min          4.000000\n",
              "25%         23.000000\n",
              "50%         25.000000\n",
              "75%         31.000000\n",
              "max        106.000000\n",
              "Name: age, dtype: float64"
            ]
          },
          "metadata": {},
          "execution_count": 60
        }
      ]
    },
    {
      "cell_type": "markdown",
      "source": [
        "### **Histograma**\n",
        "- Se genera un histograma de la distribución de los valores de edad en la columna 'age' del DataFrame.\n",
        "\n",
        "- El histograma muestra la frecuencia de los diferentes valores de edad y proporciona una visualización de la distribución de edades en el conjunto de datos."
      ],
      "metadata": {
        "id": "gdJqPr64G5dM"
      }
    },
    {
      "cell_type": "code",
      "source": [
        "plt.hist(chunk['age'], edgecolor='black')"
      ],
      "metadata": {
        "colab": {
          "base_uri": "https://localhost:8080/",
          "height": 517
        },
        "id": "weSI0jJ3HG8c",
        "outputId": "e85b2277-fa6a-4aa4-9e4c-139a8cf7054a"
      },
      "execution_count": null,
      "outputs": [
        {
          "output_type": "execute_result",
          "data": {
            "text/plain": [
              "(array([6.8400e+02, 4.4747e+04, 3.4661e+04, 9.8910e+03, 5.1350e+03,\n",
              "        2.5840e+03, 9.0100e+02, 3.9800e+02, 1.8800e+02, 2.1000e+01]),\n",
              " array([  4. ,  14.2,  24.4,  34.6,  44.8,  55. ,  65.2,  75.4,  85.6,\n",
              "         95.8, 106. ]),\n",
              " <BarContainer object of 10 artists>)"
            ]
          },
          "metadata": {},
          "execution_count": 61
        },
        {
          "output_type": "display_data",
          "data": {
            "text/plain": [
              "<Figure size 640x480 with 1 Axes>"
            ],
            "image/png": "[encoded data removed]"
          },
          "metadata": {}
        }
      ]
    },
    {
      "cell_type": "markdown",
      "source": [
        "### **Diagrama de caja**\n",
        "- Se crea un diagrama de caja de la distribución de los valores de edad en la columna 'age' del DataFrame, se puede observar que existen varios valores atipicos."
      ],
      "metadata": {
        "id": "UPPx0I08HJ4f"
      }
    },
    {
      "cell_type": "code",
      "source": [
        "sns.boxplot(x=chunk['age'])"
      ],
      "metadata": {
        "colab": {
          "base_uri": "https://localhost:8080/",
          "height": 466
        },
        "id": "0Gjd4G37HIB9",
        "outputId": "6d5d55f4-fec9-49c0-b21f-60e6c4868588"
      },
      "execution_count": null,
      "outputs": [
        {
          "output_type": "execute_result",
          "data": {
            "text/plain": [
              "<Axes: xlabel='age'>"
            ]
          },
          "metadata": {},
          "execution_count": 62
        },
        {
          "output_type": "display_data",
          "data": {
            "text/plain": [
              "<Figure size 640x480 with 1 Axes>"
            ],
            "image/png": "[encoded data removed]"
          },
          "metadata": {}
        }
      ]
    },
    {
      "cell_type": "markdown",
      "source": [
        "### **Valores Atipicos**\n",
        "- Se trata de eliminar la mayor cantidad de valores atipicos existentes en la variable age. Después de realizar las modificaciones en la columna 'age' se vuelve a graficar el diagrama de caja, con lo cual vemos una mejoria considerable respecto al gráfico anterior."
      ],
      "metadata": {
        "id": "8XcDF4MkHf_-"
      }
    },
    {
      "cell_type": "code",
      "source": [
        "chunk.loc[chunk.age < 20,\"age\"]  = 20\n",
        "chunk.loc[chunk.age > 50,\"age\"] = 50\n",
        "\n",
        "sns.boxplot(x=chunk['age'])"
      ],
      "metadata": {
        "colab": {
          "base_uri": "https://localhost:8080/",
          "height": 466
        },
        "id": "IRDovzFEdHDE",
        "outputId": "8a77fc53-3d55-4d1f-b59a-94c778f9d4bf"
      },
      "execution_count": null,
      "outputs": [
        {
          "output_type": "execute_result",
          "data": {
            "text/plain": [
              "<Axes: xlabel='age'>"
            ]
          },
          "metadata": {},
          "execution_count": 63
        },
        {
          "output_type": "display_data",
          "data": {
            "text/plain": [
              "<Figure size 640x480 with 1 Axes>"
            ],
            "image/png": "[encoded data removed]"
          },
          "metadata": {}
        }
      ]
    },
    {
      "cell_type": "markdown",
      "source": [
        "### **Estandarizacion de Datos**"
      ],
      "metadata": {
        "id": "gm1nYzTVdNzK"
      }
    },
    {
      "cell_type": "code",
      "source": [
        "scaler = StandardScaler()\n",
        "chunk['age_stand'] = scaler.fit_transform(chunk[['age']])"
      ],
      "metadata": {
        "id": "5XnQxUkNdTAV"
      },
      "execution_count": null,
      "outputs": []
    },
    {
      "cell_type": "code",
      "source": [
        "# edad y renta\n",
        "null_segmento = chunk[chunk['segmento'].isnull()]\n",
        "null_segmento[[\"renta\", 'age']]"
      ],
      "metadata": {
        "colab": {
          "base_uri": "https://localhost:8080/",
          "height": 300
        },
        "id": "KbsnFxZqdTHa",
        "outputId": "e451e259-d9b4-43fe-af40-2a0ea62d78b2"
      },
      "execution_count": null,
      "outputs": [
        {
          "output_type": "execute_result",
          "data": {
            "text/plain": [
              "           renta  age\n",
              "18765        NaN   50\n",
              "30944        NaN   23\n",
              "34117  122290.17   25\n",
              "52966        NaN   36\n",
              "57893   49707.87   47\n",
              "75194        NaN   24\n",
              "82532   66101.16   23\n",
              "99446  158917.77   44"
            ],
            "text/html": [
              "\n",
              "  <div id=\"df-2f883899-db9c-4002-931c-5b21fc87b669\" class=\"colab-df-container\">\n",
              "    <div>\n",
              "<style scoped>\n",
              "    .dataframe tbody tr th:only-of-type {\n",
              "        vertical-align: middle;\n",
              "    }\n",
              "\n",
              "    .dataframe tbody tr th {\n",
              "        vertical-align: top;\n",
              "    }\n",
              "\n",
              "    .dataframe thead th {\n",
              "        text-align: right;\n",
              "    }\n",
              "</style>\n",
              "<table border=\"1\" class=\"dataframe\">\n",
              "  <thead>\n",
              "    <tr style=\"text-align: right;\">\n",
              "      <th></th>\n",
              "      <th>renta</th>\n",
              "      <th>age</th>\n",
              "    </tr>\n",
              "  </thead>\n",
              "  <tbody>\n",
              "    <tr>\n",
              "      <th>18765</th>\n",
              "      <td>NaN</td>\n",
              "      <td>50</td>\n",
              "    </tr>\n",
              "    <tr>\n",
              "      <th>30944</th>\n",
              "      <td>NaN</td>\n",
              "      <td>23</td>\n",
              "    </tr>\n",
              "    <tr>\n",
              "      <th>34117</th>\n",
              "      <td>122290.17</td>\n",
              "      <td>25</td>\n",
              "    </tr>\n",
              "    <tr>\n",
              "      <th>52966</th>\n",
              "      <td>NaN</td>\n",
              "      <td>36</td>\n",
              "    </tr>\n",
              "    <tr>\n",
              "      <th>57893</th>\n",
              "      <td>49707.87</td>\n",
              "      <td>47</td>\n",
              "    </tr>\n",
              "    <tr>\n",
              "      <th>75194</th>\n",
              "      <td>NaN</td>\n",
              "      <td>24</td>\n",
              "    </tr>\n",
              "    <tr>\n",
              "      <th>82532</th>\n",
              "      <td>66101.16</td>\n",
              "      <td>23</td>\n",
              "    </tr>\n",
              "    <tr>\n",
              "      <th>99446</th>\n",
              "      <td>158917.77</td>\n",
              "      <td>44</td>\n",
              "    </tr>\n",
              "  </tbody>\n",
              "</table>\n",
              "</div>\n",
              "    <div class=\"colab-df-buttons\">\n",
              "\n",
              "  <div class=\"colab-df-container\">\n",
              "    <button class=\"colab-df-convert\" onclick=\"convertToInteractive('df-2f883899-db9c-4002-931c-5b21fc87b669')\"\n",
              "            title=\"Convert this dataframe to an interactive table.\"\n",
              "            style=\"display:none;\">\n",
              "\n",
              "  <svg xmlns=\"http://www.w3.org/2000/svg\" height=\"24px\" viewBox=\"0 -960 960 960\">\n",
              "    <path d=\"M120-120v-720h720v720H120Zm60-500h600v-160H180v160Zm220 220h160v-160H400v160Zm0 220h160v-160H400v160ZM180-400h160v-160H180v160Zm440 0h160v-160H620v160ZM180-180h160v-160H180v160Zm440 0h160v-160H620v160Z\"/>\n",
              "  </svg>\n",
              "    </button>\n",
              "\n",
              "  <style>\n",
              "    .colab-df-container {\n",
              "      display:flex;\n",
              "      gap: 12px;\n",
              "    }\n",
              "\n",
              "    .colab-df-convert {\n",
              "      background-color: #E8F0FE;\n",
              "      border: none;\n",
              "      border-radius: 50%;\n",
              "      cursor: pointer;\n",
              "      display: none;\n",
              "      fill: #1967D2;\n",
              "      height: 32px;\n",
              "      padding: 0 0 0 0;\n",
              "      width: 32px;\n",
              "    }\n",
              "\n",
              "    .colab-df-convert:hover {\n",
              "      background-color: #E2EBFA;\n",
              "      box-shadow: 0px 1px 2px rgba(60, 64, 67, 0.3), 0px 1px 3px 1px rgba(60, 64, 67, 0.15);\n",
              "      fill: #174EA6;\n",
              "    }\n",
              "\n",
              "    .colab-df-buttons div {\n",
              "      margin-bottom: 4px;\n",
              "    }\n",
              "\n",
              "    [theme=dark] .colab-df-convert {\n",
              "      background-color: #3B4455;\n",
              "      fill: #D2E3FC;\n",
              "    }\n",
              "\n",
              "    [theme=dark] .colab-df-convert:hover {\n",
              "      background-color: #434B5C;\n",
              "      box-shadow: 0px 1px 3px 1px rgba(0, 0, 0, 0.15);\n",
              "      filter: drop-shadow(0px 1px 2px rgba(0, 0, 0, 0.3));\n",
              "      fill: #FFFFFF;\n",
              "    }\n",
              "  </style>\n",
              "\n",
              "    <script>\n",
              "      const buttonEl =\n",
              "        document.querySelector('#df-2f883899-db9c-4002-931c-5b21fc87b669 button.colab-df-convert');\n",
              "      buttonEl.style.display =\n",
              "        google.colab.kernel.accessAllowed ? 'block' : 'none';\n",
              "\n",
              "      async function convertToInteractive(key) {\n",
              "        const element = document.querySelector('#df-2f883899-db9c-4002-931c-5b21fc87b669');\n",
              "        const dataTable =\n",
              "          await google.colab.kernel.invokeFunction('convertToInteractive',\n",
              "                                                    [key], {});\n",
              "        if (!dataTable) return;\n",
              "\n",
              "        const docLinkHtml = 'Like what you see? Visit the ' +\n",
              "          '<a target=\"_blank\" href=https://colab.research.google.com/notebooks/data_table.ipynb>data table notebook</a>'\n",
              "          + ' to learn more about interactive tables.';\n",
              "        element.innerHTML = '';\n",
              "        dataTable['output_type'] = 'display_data';\n",
              "        await google.colab.output.renderOutput(dataTable, element);\n",
              "        const docLink = document.createElement('div');\n",
              "        docLink.innerHTML = docLinkHtml;\n",
              "        element.appendChild(docLink);\n",
              "      }\n",
              "    </script>\n",
              "  </div>\n",
              "\n",
              "\n",
              "<div id=\"df-b306104e-e4f8-4892-bd5b-4a8beca90251\">\n",
              "  <button class=\"colab-df-quickchart\" onclick=\"quickchart('df-b306104e-e4f8-4892-bd5b-4a8beca90251')\"\n",
              "            title=\"Suggest charts.\"\n",
              "            style=\"display:none;\">\n",
              "\n",
              "<svg xmlns=\"http://www.w3.org/2000/svg\" height=\"24px\"viewBox=\"0 0 24 24\"\n",
              "     width=\"24px\">\n",
              "    <g>\n",
              "        <path d=\"M19 3H5c-1.1 0-2 .9-2 2v14c0 1.1.9 2 2 2h14c1.1 0 2-.9 2-2V5c0-1.1-.9-2-2-2zM9 17H7v-7h2v7zm4 0h-2V7h2v10zm4 0h-2v-4h2v4z\"/>\n",
              "    </g>\n",
              "</svg>\n",
              "  </button>\n",
              "\n",
              "<style>\n",
              "  .colab-df-quickchart {\n",
              "      --bg-color: #E8F0FE;\n",
              "      --fill-color: #1967D2;\n",
              "      --hover-bg-color: #E2EBFA;\n",
              "      --hover-fill-color: #174EA6;\n",
              "      --disabled-fill-color: #AAA;\n",
              "      --disabled-bg-color: #DDD;\n",
              "  }\n",
              "\n",
              "  [theme=dark] .colab-df-quickchart {\n",
              "      --bg-color: #3B4455;\n",
              "      --fill-color: #D2E3FC;\n",
              "      --hover-bg-color: #434B5C;\n",
              "      --hover-fill-color: #FFFFFF;\n",
              "      --disabled-bg-color: #3B4455;\n",
              "      --disabled-fill-color: #666;\n",
              "  }\n",
              "\n",
              "  .colab-df-quickchart {\n",
              "    background-color: var(--bg-color);\n",
              "    border: none;\n",
              "    border-radius: 50%;\n",
              "    cursor: pointer;\n",
              "    display: none;\n",
              "    fill: var(--fill-color);\n",
              "    height: 32px;\n",
              "    padding: 0;\n",
              "    width: 32px;\n",
              "  }\n",
              "\n",
              "  .colab-df-quickchart:hover {\n",
              "    background-color: var(--hover-bg-color);\n",
              "    box-shadow: 0 1px 2px rgba(60, 64, 67, 0.3), 0 1px 3px 1px rgba(60, 64, 67, 0.15);\n",
              "    fill: var(--button-hover-fill-color);\n",
              "  }\n",
              "\n",
              "  .colab-df-quickchart-complete:disabled,\n",
              "  .colab-df-quickchart-complete:disabled:hover {\n",
              "    background-color: var(--disabled-bg-color);\n",
              "    fill: var(--disabled-fill-color);\n",
              "    box-shadow: none;\n",
              "  }\n",
              "\n",
              "  .colab-df-spinner {\n",
              "    border: 2px solid var(--fill-color);\n",
              "    border-color: transparent;\n",
              "    border-bottom-color: var(--fill-color);\n",
              "    animation:\n",
              "      spin 1s steps(1) infinite;\n",
              "  }\n",
              "\n",
              "  @keyframes spin {\n",
              "    0% {\n",
              "      border-color: transparent;\n",
              "      border-bottom-color: var(--fill-color);\n",
              "      border-left-color: var(--fill-color);\n",
              "    }\n",
              "    20% {\n",
              "      border-color: transparent;\n",
              "      border-left-color: var(--fill-color);\n",
              "      border-top-color: var(--fill-color);\n",
              "    }\n",
              "    30% {\n",
              "      border-color: transparent;\n",
              "      border-left-color: var(--fill-color);\n",
              "      border-top-color: var(--fill-color);\n",
              "      border-right-color: var(--fill-color);\n",
              "    }\n",
              "    40% {\n",
              "      border-color: transparent;\n",
              "      border-right-color: var(--fill-color);\n",
              "      border-top-color: var(--fill-color);\n",
              "    }\n",
              "    60% {\n",
              "      border-color: transparent;\n",
              "      border-right-color: var(--fill-color);\n",
              "    }\n",
              "    80% {\n",
              "      border-color: transparent;\n",
              "      border-right-color: var(--fill-color);\n",
              "      border-bottom-color: var(--fill-color);\n",
              "    }\n",
              "    90% {\n",
              "      border-color: transparent;\n",
              "      border-bottom-color: var(--fill-color);\n",
              "    }\n",
              "  }\n",
              "</style>\n",
              "\n",
              "  <script>\n",
              "    async function quickchart(key) {\n",
              "      const quickchartButtonEl =\n",
              "        document.querySelector('#' + key + ' button');\n",
              "      quickchartButtonEl.disabled = true;  // To prevent multiple clicks.\n",
              "      quickchartButtonEl.classList.add('colab-df-spinner');\n",
              "      try {\n",
              "        const charts = await google.colab.kernel.invokeFunction(\n",
              "            'suggestCharts', [key], {});\n",
              "      } catch (error) {\n",
              "        console.error('Error during call to suggestCharts:', error);\n",
              "      }\n",
              "      quickchartButtonEl.classList.remove('colab-df-spinner');\n",
              "      quickchartButtonEl.classList.add('colab-df-quickchart-complete');\n",
              "    }\n",
              "    (() => {\n",
              "      let quickchartButtonEl =\n",
              "        document.querySelector('#df-b306104e-e4f8-4892-bd5b-4a8beca90251 button');\n",
              "      quickchartButtonEl.style.display =\n",
              "        google.colab.kernel.accessAllowed ? 'block' : 'none';\n",
              "    })();\n",
              "  </script>\n",
              "</div>\n",
              "    </div>\n",
              "  </div>\n"
            ]
          },
          "metadata": {},
          "execution_count": 65
        }
      ]
    },
    {
      "cell_type": "markdown",
      "source": [
        "#**Analisis Bivariable**"
      ],
      "metadata": {
        "id": "KQmjq43ueJKU"
      }
    },
    {
      "cell_type": "markdown",
      "source": [
        "## **Variable Segemento/Edad: Estadisticas**\n",
        "\n",
        "- Se agrupa el código por la columna segmento, el resultado es un DataFrame que muestra las estadísticas resumidas de la columna 'age' para cada segmento presente en el DataFrame. Esto nos permite obtener información sobre las medidas centrales y los rangos de edad en cada grupo de segmento, lo que es útil para realizar análisis comparativos y obtener una visión general de la distribución de edad en función de los segmentos."
      ],
      "metadata": {
        "id": "HCJJmzbsdj7O"
      }
    },
    {
      "cell_type": "code",
      "source": [
        "chunk.groupby('segmento').agg({'age':['mean', 'median', 'max', 'min']})\n"
      ],
      "metadata": {
        "colab": {
          "base_uri": "https://localhost:8080/",
          "height": 206
        },
        "id": "TYhF5PfPdwem",
        "outputId": "01d92ed9-d5d8-4634-f607-6027921951d4"
      },
      "execution_count": null,
      "outputs": [
        {
          "output_type": "execute_result",
          "data": {
            "text/plain": [
              "                age               \n",
              "               mean median max min\n",
              "segmento                          \n",
              "Grad      24.924215   24.0  50  20\n",
              "Ind       40.387810   41.0  50  20\n",
              "VIP       46.132736   50.0  50  22"
            ],
            "text/html": [
              "\n",
              "  <div id=\"df-376a8cea-856e-43f1-8a15-eb94cd477812\" class=\"colab-df-container\">\n",
              "    <div>\n",
              "<style scoped>\n",
              "    .dataframe tbody tr th:only-of-type {\n",
              "        vertical-align: middle;\n",
              "    }\n",
              "\n",
              "    .dataframe tbody tr th {\n",
              "        vertical-align: top;\n",
              "    }\n",
              "\n",
              "    .dataframe thead tr th {\n",
              "        text-align: left;\n",
              "    }\n",
              "\n",
              "    .dataframe thead tr:last-of-type th {\n",
              "        text-align: right;\n",
              "    }\n",
              "</style>\n",
              "<table border=\"1\" class=\"dataframe\">\n",
              "  <thead>\n",
              "    <tr>\n",
              "      <th></th>\n",
              "      <th colspan=\"4\" halign=\"left\">age</th>\n",
              "    </tr>\n",
              "    <tr>\n",
              "      <th></th>\n",
              "      <th>mean</th>\n",
              "      <th>median</th>\n",
              "      <th>max</th>\n",
              "      <th>min</th>\n",
              "    </tr>\n",
              "    <tr>\n",
              "      <th>segmento</th>\n",
              "      <th></th>\n",
              "      <th></th>\n",
              "      <th></th>\n",
              "      <th></th>\n",
              "    </tr>\n",
              "  </thead>\n",
              "  <tbody>\n",
              "    <tr>\n",
              "      <th>Grad</th>\n",
              "      <td>24.924215</td>\n",
              "      <td>24.0</td>\n",
              "      <td>50</td>\n",
              "      <td>20</td>\n",
              "    </tr>\n",
              "    <tr>\n",
              "      <th>Ind</th>\n",
              "      <td>40.387810</td>\n",
              "      <td>41.0</td>\n",
              "      <td>50</td>\n",
              "      <td>20</td>\n",
              "    </tr>\n",
              "    <tr>\n",
              "      <th>VIP</th>\n",
              "      <td>46.132736</td>\n",
              "      <td>50.0</td>\n",
              "      <td>50</td>\n",
              "      <td>22</td>\n",
              "    </tr>\n",
              "  </tbody>\n",
              "</table>\n",
              "</div>\n",
              "    <div class=\"colab-df-buttons\">\n",
              "\n",
              "  <div class=\"colab-df-container\">\n",
              "    <button class=\"colab-df-convert\" onclick=\"convertToInteractive('df-376a8cea-856e-43f1-8a15-eb94cd477812')\"\n",
              "            title=\"Convert this dataframe to an interactive table.\"\n",
              "            style=\"display:none;\">\n",
              "\n",
              "  <svg xmlns=\"http://www.w3.org/2000/svg\" height=\"24px\" viewBox=\"0 -960 960 960\">\n",
              "    <path d=\"M120-120v-720h720v720H120Zm60-500h600v-160H180v160Zm220 220h160v-160H400v160Zm0 220h160v-160H400v160ZM180-400h160v-160H180v160Zm440 0h160v-160H620v160ZM180-180h160v-160H180v160Zm440 0h160v-160H620v160Z\"/>\n",
              "  </svg>\n",
              "    </button>\n",
              "\n",
              "  <style>\n",
              "    .colab-df-container {\n",
              "      display:flex;\n",
              "      gap: 12px;\n",
              "    }\n",
              "\n",
              "    .colab-df-convert {\n",
              "      background-color: #E8F0FE;\n",
              "      border: none;\n",
              "      border-radius: 50%;\n",
              "      cursor: pointer;\n",
              "      display: none;\n",
              "      fill: #1967D2;\n",
              "      height: 32px;\n",
              "      padding: 0 0 0 0;\n",
              "      width: 32px;\n",
              "    }\n",
              "\n",
              "    .colab-df-convert:hover {\n",
              "      background-color: #E2EBFA;\n",
              "      box-shadow: 0px 1px 2px rgba(60, 64, 67, 0.3), 0px 1px 3px 1px rgba(60, 64, 67, 0.15);\n",
              "      fill: #174EA6;\n",
              "    }\n",
              "\n",
              "    .colab-df-buttons div {\n",
              "      margin-bottom: 4px;\n",
              "    }\n",
              "\n",
              "    [theme=dark] .colab-df-convert {\n",
              "      background-color: #3B4455;\n",
              "      fill: #D2E3FC;\n",
              "    }\n",
              "\n",
              "    [theme=dark] .colab-df-convert:hover {\n",
              "      background-color: #434B5C;\n",
              "      box-shadow: 0px 1px 3px 1px rgba(0, 0, 0, 0.15);\n",
              "      filter: drop-shadow(0px 1px 2px rgba(0, 0, 0, 0.3));\n",
              "      fill: #FFFFFF;\n",
              "    }\n",
              "  </style>\n",
              "\n",
              "    <script>\n",
              "      const buttonEl =\n",
              "        document.querySelector('#df-376a8cea-856e-43f1-8a15-eb94cd477812 button.colab-df-convert');\n",
              "      buttonEl.style.display =\n",
              "        google.colab.kernel.accessAllowed ? 'block' : 'none';\n",
              "\n",
              "      async function convertToInteractive(key) {\n",
              "        const element = document.querySelector('#df-376a8cea-856e-43f1-8a15-eb94cd477812');\n",
              "        const dataTable =\n",
              "          await google.colab.kernel.invokeFunction('convertToInteractive',\n",
              "                                                    [key], {});\n",
              "        if (!dataTable) return;\n",
              "\n",
              "        const docLinkHtml = 'Like what you see? Visit the ' +\n",
              "          '<a target=\"_blank\" href=https://colab.research.google.com/notebooks/data_table.ipynb>data table notebook</a>'\n",
              "          + ' to learn more about interactive tables.';\n",
              "        element.innerHTML = '';\n",
              "        dataTable['output_type'] = 'display_data';\n",
              "        await google.colab.output.renderOutput(dataTable, element);\n",
              "        const docLink = document.createElement('div');\n",
              "        docLink.innerHTML = docLinkHtml;\n",
              "        element.appendChild(docLink);\n",
              "      }\n",
              "    </script>\n",
              "  </div>\n",
              "\n",
              "\n",
              "<div id=\"df-0ad233b4-935f-477a-8eb2-116c5cdb3cfb\">\n",
              "  <button class=\"colab-df-quickchart\" onclick=\"quickchart('df-0ad233b4-935f-477a-8eb2-116c5cdb3cfb')\"\n",
              "            title=\"Suggest charts.\"\n",
              "            style=\"display:none;\">\n",
              "\n",
              "<svg xmlns=\"http://www.w3.org/2000/svg\" height=\"24px\"viewBox=\"0 0 24 24\"\n",
              "     width=\"24px\">\n",
              "    <g>\n",
              "        <path d=\"M19 3H5c-1.1 0-2 .9-2 2v14c0 1.1.9 2 2 2h14c1.1 0 2-.9 2-2V5c0-1.1-.9-2-2-2zM9 17H7v-7h2v7zm4 0h-2V7h2v10zm4 0h-2v-4h2v4z\"/>\n",
              "    </g>\n",
              "</svg>\n",
              "  </button>\n",
              "\n",
              "<style>\n",
              "  .colab-df-quickchart {\n",
              "      --bg-color: #E8F0FE;\n",
              "      --fill-color: #1967D2;\n",
              "      --hover-bg-color: #E2EBFA;\n",
              "      --hover-fill-color: #174EA6;\n",
              "      --disabled-fill-color: #AAA;\n",
              "      --disabled-bg-color: #DDD;\n",
              "  }\n",
              "\n",
              "  [theme=dark] .colab-df-quickchart {\n",
              "      --bg-color: #3B4455;\n",
              "      --fill-color: #D2E3FC;\n",
              "      --hover-bg-color: #434B5C;\n",
              "      --hover-fill-color: #FFFFFF;\n",
              "      --disabled-bg-color: #3B4455;\n",
              "      --disabled-fill-color: #666;\n",
              "  }\n",
              "\n",
              "  .colab-df-quickchart {\n",
              "    background-color: var(--bg-color);\n",
              "    border: none;\n",
              "    border-radius: 50%;\n",
              "    cursor: pointer;\n",
              "    display: none;\n",
              "    fill: var(--fill-color);\n",
              "    height: 32px;\n",
              "    padding: 0;\n",
              "    width: 32px;\n",
              "  }\n",
              "\n",
              "  .colab-df-quickchart:hover {\n",
              "    background-color: var(--hover-bg-color);\n",
              "    box-shadow: 0 1px 2px rgba(60, 64, 67, 0.3), 0 1px 3px 1px rgba(60, 64, 67, 0.15);\n",
              "    fill: var(--button-hover-fill-color);\n",
              "  }\n",
              "\n",
              "  .colab-df-quickchart-complete:disabled,\n",
              "  .colab-df-quickchart-complete:disabled:hover {\n",
              "    background-color: var(--disabled-bg-color);\n",
              "    fill: var(--disabled-fill-color);\n",
              "    box-shadow: none;\n",
              "  }\n",
              "\n",
              "  .colab-df-spinner {\n",
              "    border: 2px solid var(--fill-color);\n",
              "    border-color: transparent;\n",
              "    border-bottom-color: var(--fill-color);\n",
              "    animation:\n",
              "      spin 1s steps(1) infinite;\n",
              "  }\n",
              "\n",
              "  @keyframes spin {\n",
              "    0% {\n",
              "      border-color: transparent;\n",
              "      border-bottom-color: var(--fill-color);\n",
              "      border-left-color: var(--fill-color);\n",
              "    }\n",
              "    20% {\n",
              "      border-color: transparent;\n",
              "      border-left-color: var(--fill-color);\n",
              "      border-top-color: var(--fill-color);\n",
              "    }\n",
              "    30% {\n",
              "      border-color: transparent;\n",
              "      border-left-color: var(--fill-color);\n",
              "      border-top-color: var(--fill-color);\n",
              "      border-right-color: var(--fill-color);\n",
              "    }\n",
              "    40% {\n",
              "      border-color: transparent;\n",
              "      border-right-color: var(--fill-color);\n",
              "      border-top-color: var(--fill-color);\n",
              "    }\n",
              "    60% {\n",
              "      border-color: transparent;\n",
              "      border-right-color: var(--fill-color);\n",
              "    }\n",
              "    80% {\n",
              "      border-color: transparent;\n",
              "      border-right-color: var(--fill-color);\n",
              "      border-bottom-color: var(--fill-color);\n",
              "    }\n",
              "    90% {\n",
              "      border-color: transparent;\n",
              "      border-bottom-color: var(--fill-color);\n",
              "    }\n",
              "  }\n",
              "</style>\n",
              "\n",
              "  <script>\n",
              "    async function quickchart(key) {\n",
              "      const quickchartButtonEl =\n",
              "        document.querySelector('#' + key + ' button');\n",
              "      quickchartButtonEl.disabled = true;  // To prevent multiple clicks.\n",
              "      quickchartButtonEl.classList.add('colab-df-spinner');\n",
              "      try {\n",
              "        const charts = await google.colab.kernel.invokeFunction(\n",
              "            'suggestCharts', [key], {});\n",
              "      } catch (error) {\n",
              "        console.error('Error during call to suggestCharts:', error);\n",
              "      }\n",
              "      quickchartButtonEl.classList.remove('colab-df-spinner');\n",
              "      quickchartButtonEl.classList.add('colab-df-quickchart-complete');\n",
              "    }\n",
              "    (() => {\n",
              "      let quickchartButtonEl =\n",
              "        document.querySelector('#df-0ad233b4-935f-477a-8eb2-116c5cdb3cfb button');\n",
              "      quickchartButtonEl.style.display =\n",
              "        google.colab.kernel.accessAllowed ? 'block' : 'none';\n",
              "    })();\n",
              "  </script>\n",
              "</div>\n",
              "    </div>\n",
              "  </div>\n"
            ]
          },
          "metadata": {},
          "execution_count": 66
        }
      ]
    },
    {
      "cell_type": "markdown",
      "source": [
        "## **Variable Renta: Estadisticas**\n",
        "\n",
        "- Se realiza la misma agrupación anterior, pero en este caso con la variable 'renta'.\n",
        "\n",
        "\n"
      ],
      "metadata": {
        "id": "7HHBk_kudyal"
      }
    },
    {
      "cell_type": "code",
      "source": [
        "chunk.groupby('segmento').agg({'renta':['mean', 'median', 'max', 'min']})\n"
      ],
      "metadata": {
        "id": "fIs2rMGSd4rd"
      },
      "execution_count": null,
      "outputs": []
    },
    {
      "cell_type": "markdown",
      "source": [
        "##**Variable: Segemento**\n",
        "\n",
        "- Se asigna valores a la columna 'segmento' del DataFrame en función de ciertas condiciones. Si el valor de 'segmento' es nulo y el valor de 'age' es menor que 40, se establece el valor 'Grad'. Si el valor de 'segmento' es nulo y el valor de 'age' es mayor que 40, se establece el valor 'Ind'. Esto nos permite llenar los valores nulos en la columna 'segmento' según las condiciones especificadas y basándose en los valores de la columna 'age'."
      ],
      "metadata": {
        "id": "QukCgbvReAce"
      }
    },
    {
      "cell_type": "code",
      "source": [
        "chunk.loc[((chunk.segmento.isnull()) & (chunk.age<40)), \"segmento\"] = 'Grad'\n",
        "chunk.loc[((chunk.segmento.isnull()) & (chunk.age>40)), \"segmento\"] = 'Ind'"
      ],
      "metadata": {
        "id": "-CC8IlfRefnm"
      },
      "execution_count": null,
      "outputs": []
    },
    {
      "cell_type": "markdown",
      "source": [
        "## **Diagrama de Cajas: Renta**\n",
        "- Se crea un diagrama de caja de la distribución de los valores de la columna 'renta' en el DataFrame, esto nos proporciona una visualización de la dispersión y los estadísticos de la columna 'renta', lo que permite identificar valores atípicos y obtener una idea de la distribución de los ingresos en el conjunto de datos."
      ],
      "metadata": {
        "id": "fhpDyGdrejvM"
      }
    },
    {
      "cell_type": "code",
      "source": [
        "sns.boxplot(x=chunk['renta'])\n"
      ],
      "metadata": {
        "colab": {
          "base_uri": "https://localhost:8080/",
          "height": 466
        },
        "id": "IG6dSuLVevAH",
        "outputId": "b6e4ebdb-7513-4862-8248-319b4425b260"
      },
      "execution_count": null,
      "outputs": [
        {
          "output_type": "execute_result",
          "data": {
            "text/plain": [
              "<Axes: xlabel='renta'>"
            ]
          },
          "metadata": {},
          "execution_count": 68
        },
        {
          "output_type": "display_data",
          "data": {
            "text/plain": [
              "<Figure size 640x480 with 1 Axes>"
            ],
            "image/png": "[encoded data removed]"
          },
          "metadata": {}
        }
      ]
    },
    {
      "cell_type": "code",
      "source": [
        "chunk.renta.describe()"
      ],
      "metadata": {
        "colab": {
          "base_uri": "https://localhost:8080/"
        },
        "id": "-vugf5VneyXK",
        "outputId": "c6501ba9-c824-4474-bed2-26343d1f34db"
      },
      "execution_count": null,
      "outputs": [
        {
          "output_type": "execute_result",
          "data": {
            "text/plain": [
              "count    8.169800e+04\n",
              "mean     1.155552e+05\n",
              "std      1.594241e+05\n",
              "min      2.539800e+03\n",
              "25%      6.217019e+04\n",
              "50%      8.960661e+04\n",
              "75%      1.330213e+05\n",
              "max      2.425324e+07\n",
              "Name: renta, dtype: float64"
            ]
          },
          "metadata": {},
          "execution_count": 69
        }
      ]
    },
    {
      "cell_type": "markdown",
      "source": [
        "## **Correlación: Ingresos y Edad.**\n",
        "\n",
        "- Verificamos si hay correlación entre los ingresos y la edad.\n",
        "\n",
        "- Se genera un gráfico de dispersión que muestra la relación entre los ingresos ('renta') y la edad ('age') en el DataFrame."
      ],
      "metadata": {
        "id": "bXU5xDr4ewaS"
      }
    },
    {
      "cell_type": "code",
      "source": [
        "plt.scatter(data = chunk, x = 'renta', y ='age')\n",
        "plt.xlabel('Renta', color = \"blue\")\n",
        "plt.ylabel('Age', color = \"blue\")"
      ],
      "metadata": {
        "colab": {
          "base_uri": "https://localhost:8080/",
          "height": 466
        },
        "id": "5jtno7ItfLf9",
        "outputId": "d37de1f3-a235-4bcf-aabe-26c972b8ab14"
      },
      "execution_count": null,
      "outputs": [
        {
          "output_type": "execute_result",
          "data": {
            "text/plain": [
              "Text(0, 0.5, 'Age')"
            ]
          },
          "metadata": {},
          "execution_count": 71
        },
        {
          "output_type": "display_data",
          "data": {
            "text/plain": [
              "<Figure size 640x480 with 1 Axes>"
            ],
            "image/png": "[encoded data removed]"
          },
          "metadata": {}
        }
      ]
    },
    {
      "cell_type": "markdown",
      "source": [
        "## **Diagrama de cajas: Renta/Segmento**\n",
        "- Se crea un diagrama de caja que muestra la distribución de los valores de 'renta' para cada categoría en la columna 'segmento' del DataFrame. Nos permite comparar visualmente la distribución de ingresos en diferentes segmentos (Ind, Grad, VIP) y detectar posibles diferencias o patrones."
      ],
      "metadata": {
        "id": "f6_Wh7d_hUuF"
      }
    },
    {
      "cell_type": "code",
      "source": [
        "sns.boxplot(data=chunk, x=\"renta\", y=\"segmento\")\n"
      ],
      "metadata": {
        "colab": {
          "base_uri": "https://localhost:8080/",
          "height": 466
        },
        "id": "iwMoMlcPhik3",
        "outputId": "2dbdcf98-5349-4442-a754-25e7b779c608"
      },
      "execution_count": null,
      "outputs": [
        {
          "output_type": "execute_result",
          "data": {
            "text/plain": [
              "<Axes: xlabel='renta', ylabel='segmento'>"
            ]
          },
          "metadata": {},
          "execution_count": 74
        },
        {
          "output_type": "display_data",
          "data": {
            "text/plain": [
              "<Figure size 640x480 with 1 Axes>"
            ],
            "image/png": "[encoded data removed]"
          },
          "metadata": {}
        }
      ]
    },
    {
      "cell_type": "markdown",
      "source": [
        "## **Limites de valores**\n",
        "Se establece un límite superior en los valores de la columna 'renta' del DataFrame. Si algún valor es mayor o igual a 1000000, se reemplaza por el valor 1000000. Esto es útil para limitar los valores extremos o atípicos en la columna 'renta' y asegurar que no haya valores excesivamente altos en el análisis posterior."
      ],
      "metadata": {
        "id": "5Dn6FFRniFN-"
      }
    },
    {
      "cell_type": "code",
      "source": [
        "chunk.loc[chunk.renta>=1000000, \"renta\"] = 1000000\n"
      ],
      "metadata": {
        "id": "UziPWR-TiaGO"
      },
      "execution_count": null,
      "outputs": []
    },
    {
      "cell_type": "code",
      "source": [
        "sns.boxplot(data=chunk, x=\"renta\", y=\"segmento\")\n"
      ],
      "metadata": {
        "colab": {
          "base_uri": "https://localhost:8080/",
          "height": 466
        },
        "id": "QeYzGGHuibJn",
        "outputId": "f12ac0da-15b4-4100-9d83-5f4eb41018ba"
      },
      "execution_count": null,
      "outputs": [
        {
          "output_type": "execute_result",
          "data": {
            "text/plain": [
              "<Axes: xlabel='renta', ylabel='segmento'>"
            ]
          },
          "metadata": {},
          "execution_count": 76
        },
        {
          "output_type": "display_data",
          "data": {
            "text/plain": [
              "<Figure size 640x480 with 1 Axes>"
            ],
            "image/png": "[encoded data removed]"
          },
          "metadata": {}
        }
      ]
    },
    {
      "cell_type": "markdown",
      "source": [
        "## **Diagrama de Cajas: Renta/Provincias**\n",
        "\n",
        "- Se gráfica los diagramas de caja que muestra la distribución de los valores de 'renta' para cada categoría en la columna 'nomprov' (nombre de provincias) del DataFrame. Esto nos permite comparar visualmente la distribución de ingresos en diferentes provincias y detectar posibles diferencias o patrones."
      ],
      "metadata": {
        "id": "DpSWnOqJlzIX"
      }
    },
    {
      "cell_type": "code",
      "source": [
        "plt.figure(figsize=(20,15))\n",
        "sns.boxplot(data=chunk, x=\"renta\", y=\"nomprov\")"
      ],
      "metadata": {
        "colab": {
          "base_uri": "https://localhost:8080/",
          "height": 679
        },
        "id": "AsZMg7u7mCzT",
        "outputId": "60c1b893-e923-4c20-af32-91c6dc182a8c"
      },
      "execution_count": null,
      "outputs": [
        {
          "output_type": "execute_result",
          "data": {
            "text/plain": [
              "<Axes: xlabel='renta', ylabel='nomprov'>"
            ]
          },
          "metadata": {},
          "execution_count": 77
        },
        {
          "output_type": "display_data",
          "data": {
            "text/plain": [
              "<Figure size 2000x1500 with 1 Axes>"
            ],
            "image/png": "[encoded data removed]"
          },
          "metadata": {}
        }
      ]
    },
    {
      "cell_type": "markdown",
      "source": [
        "## **Grafico Categorico: Provincias/Segmento**\n",
        "\n",
        "- Se crea un gráfico categórico con filas para cada categoría única en la columna 'segmento'. Cada fila muestra diagramas de caja que representan la distribución de los valores de 'renta' para cada categoría en la columna 'nomprov'. Esto permite comparar visualmente la distribución de ingresos en diferentes provincias y segmentos."
      ],
      "metadata": {
        "id": "EMEU2w7ZmJpu"
      }
    },
    {
      "cell_type": "code",
      "source": [
        "sns.catplot(\n",
        "    data=chunk,\n",
        "    x='nomprov',\n",
        "    y = 'renta',\n",
        "    row ='segmento',\n",
        "    kind='box',\n",
        "    height=3,\n",
        "    aspect=4)"
      ],
      "metadata": {
        "colab": {
          "base_uri": "https://localhost:8080/",
          "height": 739
        },
        "id": "9FWNw-Dlma39",
        "outputId": "057906e1-abff-4421-aa10-6cdf93e2ced1"
      },
      "execution_count": null,
      "outputs": [
        {
          "output_type": "execute_result",
          "data": {
            "text/plain": [
              "<seaborn.axisgrid.FacetGrid at 0x78bde26f28f0>"
            ]
          },
          "metadata": {},
          "execution_count": 78
        },
        {
          "output_type": "display_data",
          "data": {
            "text/plain": [
              "<Figure size 1200x900 with 3 Axes>"
            ],
            "image/png": "[encoded data removed]"
          },
          "metadata": {}
        }
      ]
    },
    {
      "cell_type": "markdown",
      "source": [
        "# **Analisis Univariable**\n",
        "\n"
      ],
      "metadata": {
        "id": "1jGw2sWwm0Oa"
      }
    },
    {
      "cell_type": "markdown",
      "source": [
        "# **Provincias**\n",
        "- Se agrupa el DataFrame por provincia y calculamos estadísticas resumidas de la columna 'renta' para cada provincia, como la media, la mediana, el máximo, el mínimo y el recuento de valores. El resultado se almacena en el DataFrame nompr_renta, que proporciona una visión general de las estadísticas de ingresos para cada provincia en el conjunto de datos."
      ],
      "metadata": {
        "id": "i53qDT1snmBr"
      }
    },
    {
      "cell_type": "code",
      "source": [
        "nompr_renta = chunk.groupby('nomprov').agg({'renta':['mean', 'median', 'max', 'min', 'count']})\n",
        "nompr_renta"
      ],
      "metadata": {
        "colab": {
          "base_uri": "https://localhost:8080/",
          "height": 1000
        },
        "id": "dMR2R101m857",
        "outputId": "8f9ac6ef-ec12-4251-fe30-5523099364f5"
      },
      "execution_count": null,
      "outputs": [
        {
          "output_type": "execute_result",
          "data": {
            "text/plain": [
              "                                renta                                         \n",
              "                                 mean      median         max       min  count\n",
              "nomprov                                                                       \n",
              "ALAVA                             NaN         NaN         NaN       NaN      0\n",
              "ALBACETE                 82406.942675   76185.390   455994.48   9180.00   1088\n",
              "ALICANTE                 82870.310509   65651.775  1000000.00  12585.96   1924\n",
              "ALMERIA                  90829.209596   76218.570   482363.88  22213.80    297\n",
              "ASTURIAS                 97793.934933   84023.370   513786.54  12857.49   1563\n",
              "AVILA                    77006.183962   66057.930  1000000.00  17287.71    366\n",
              "BADAJOZ                  68101.732732   58572.810   389421.45   8124.72   2291\n",
              "BALEARS, ILLES          159068.964397  126953.070  1000000.00  23542.50    473\n",
              "BARCELONA               159465.194626  128174.550  1000000.00  18567.60   9555\n",
              "BIZKAIA                           NaN         NaN         NaN       NaN      0\n",
              "BURGOS                   96373.104827   87084.555  1000000.00  11154.06    868\n",
              "CACERES                  72744.863044   65419.380   577415.13  10652.82   1557\n",
              "CADIZ                    95769.799152   75589.200  1000000.00   4559.55   2794\n",
              "CANTABRIA               119203.466438   90952.140  1000000.00  16760.25    786\n",
              "CASTELLON                74811.547642   64243.950   377178.87  11933.04    895\n",
              "CEUTA                   247478.084062  161749.710  1000000.00  49286.49     32\n",
              "CIUDAD REAL              66489.078497   59292.210   952513.17   6875.01   1038\n",
              "CORDOBA                  80982.945725   66158.070   838152.54   8034.15   1551\n",
              "CORUÑA, A               108029.946078   94054.200  1000000.00  14135.67   3799\n",
              "CUENCA                   69473.093912   68058.735   295889.07  10500.03    616\n",
              "GIPUZKOA                          NaN         NaN         NaN       NaN      0\n",
              "GIRONA                  141454.598033  111021.900  1000000.00  25991.28    854\n",
              "GRANADA                  87772.143577   78183.495   544433.55  13646.73    738\n",
              "GUADALAJARA              97511.646254   95043.900   307990.59  21309.81    283\n",
              "HUELVA                   74866.709650   68853.900   358766.25  13321.02   1456\n",
              "HUESCA                   82514.632920   70390.290   463665.12  19632.24    339\n",
              "JAEN                     74353.585504   65293.800   477570.24  13627.05    407\n",
              "LEON                     87253.725705   73716.870  1000000.00   7816.92    461\n",
              "LERIDA                   80024.186765   64584.465   649599.33   9482.13    918\n",
              "LUGO                     77015.603564   64744.200   442775.28  17557.80    825\n",
              "MADRID                  162162.369163  130920.270  1000000.00  13690.89  14751\n",
              "MALAGA                  108825.097061   91119.285  1000000.00  10983.54   3018\n",
              "MELILLA                 144164.339487  108836.370  1000000.00  34437.12     39\n",
              "MURCIA                   77045.655655   66685.785   586758.90   8559.24   3206\n",
              "NAVARRA                  55866.120000   55866.120    55866.12  55866.12      1\n",
              "OURENSE                  81678.667630   79101.285   286517.07   5437.62    810\n",
              "PALENCIA                 88151.148539   84006.480   442752.93  16924.53    479\n",
              "PALMAS, LAS              96400.191752   78600.030   926880.45  20761.08   1273\n",
              "PONTEVEDRA              111897.800052   96656.610  1000000.00   9450.00   2679\n",
              "RIOJA, LA                95876.224038   85837.170   462083.76  12219.90    624\n",
              "SALAMANCA                95090.063089   86050.560  1000000.00   8075.46   1761\n",
              "SANTA CRUZ DE TENERIFE  100780.968383   79875.840   781590.00  15371.10    266\n",
              "SEGOVIA                  97551.621226   85583.235   833481.30  12518.94    318\n",
              "SEVILLA                 109767.166243   88084.350  1000000.00   8740.26   4674\n",
              "SORIA                    83629.038496   77178.540   187516.53  19608.87    133\n",
              "TARRAGONA               101551.714398   86789.085  1000000.00  17719.02    548\n",
              "TERUEL                   87603.263486   76177.140   933319.86  11151.63    175\n",
              "TOLEDO                   77506.178995   65218.800  1000000.00  11072.79   1473\n",
              "VALENCIA                 86732.005805   71293.650   630046.32  17564.85   2703\n",
              "VALLADOLID               97079.209006   90349.770   546642.69   2539.80   1981\n",
              "ZAMORA                   78128.307132   74786.205   418766.49   7776.00    544\n",
              "ZARAGOZA                106616.313618   98755.485  1000000.00   9787.50   2468"
            ],
            "text/html": [
              "\n",
              "  <div id=\"df-42f12fa2-18f4-4bb8-9f2b-6654fd4960c0\" class=\"colab-df-container\">\n",
              "    <div>\n",
              "<style scoped>\n",
              "    .dataframe tbody tr th:only-of-type {\n",
              "        vertical-align: middle;\n",
              "    }\n",
              "\n",
              "    .dataframe tbody tr th {\n",
              "        vertical-align: top;\n",
              "    }\n",
              "\n",
              "    .dataframe thead tr th {\n",
              "        text-align: left;\n",
              "    }\n",
              "\n",
              "    .dataframe thead tr:last-of-type th {\n",
              "        text-align: right;\n",
              "    }\n",
              "</style>\n",
              "<table border=\"1\" class=\"dataframe\">\n",
              "  <thead>\n",
              "    <tr>\n",
              "      <th></th>\n",
              "      <th colspan=\"5\" halign=\"left\">renta</th>\n",
              "    </tr>\n",
              "    <tr>\n",
              "      <th></th>\n",
              "      <th>mean</th>\n",
              "      <th>median</th>\n",
              "      <th>max</th>\n",
              "      <th>min</th>\n",
              "      <th>count</th>\n",
              "    </tr>\n",
              "    <tr>\n",
              "      <th>nomprov</th>\n",
              "      <th></th>\n",
              "      <th></th>\n",
              "      <th></th>\n",
              "      <th></th>\n",
              "      <th></th>\n",
              "    </tr>\n",
              "  </thead>\n",
              "  <tbody>\n",
              "    <tr>\n",
              "      <th>ALAVA</th>\n",
              "      <td>NaN</td>\n",
              "      <td>NaN</td>\n",
              "      <td>NaN</td>\n",
              "      <td>NaN</td>\n",
              "      <td>0</td>\n",
              "    </tr>\n",
              "    <tr>\n",
              "      <th>ALBACETE</th>\n",
              "      <td>82406.942675</td>\n",
              "      <td>76185.390</td>\n",
              "      <td>455994.48</td>\n",
              "      <td>9180.00</td>\n",
              "      <td>1088</td>\n",
              "    </tr>\n",
              "    <tr>\n",
              "      <th>ALICANTE</th>\n",
              "      <td>82870.310509</td>\n",
              "      <td>65651.775</td>\n",
              "      <td>1000000.00</td>\n",
              "      <td>12585.96</td>\n",
              "      <td>1924</td>\n",
              "    </tr>\n",
              "    <tr>\n",
              "      <th>ALMERIA</th>\n",
              "      <td>90829.209596</td>\n",
              "      <td>76218.570</td>\n",
              "      <td>482363.88</td>\n",
              "      <td>22213.80</td>\n",
              "      <td>297</td>\n",
              "    </tr>\n",
              "    <tr>\n",
              "      <th>ASTURIAS</th>\n",
              "      <td>97793.934933</td>\n",
              "      <td>84023.370</td>\n",
              "      <td>513786.54</td>\n",
              "      <td>12857.49</td>\n",
              "      <td>1563</td>\n",
              "    </tr>\n",
              "    <tr>\n",
              "      <th>AVILA</th>\n",
              "      <td>77006.183962</td>\n",
              "      <td>66057.930</td>\n",
              "      <td>1000000.00</td>\n",
              "      <td>17287.71</td>\n",
              "      <td>366</td>\n",
              "    </tr>\n",
              "    <tr>\n",
              "      <th>BADAJOZ</th>\n",
              "      <td>68101.732732</td>\n",
              "      <td>58572.810</td>\n",
              "      <td>389421.45</td>\n",
              "      <td>8124.72</td>\n",
              "      <td>2291</td>\n",
              "    </tr>\n",
              "    <tr>\n",
              "      <th>BALEARS, ILLES</th>\n",
              "      <td>159068.964397</td>\n",
              "      <td>126953.070</td>\n",
              "      <td>1000000.00</td>\n",
              "      <td>23542.50</td>\n",
              "      <td>473</td>\n",
              "    </tr>\n",
              "    <tr>\n",
              "      <th>BARCELONA</th>\n",
              "      <td>159465.194626</td>\n",
              "      <td>128174.550</td>\n",
              "      <td>1000000.00</td>\n",
              "      <td>18567.60</td>\n",
              "      <td>9555</td>\n",
              "    </tr>\n",
              "    <tr>\n",
              "      <th>BIZKAIA</th>\n",
              "      <td>NaN</td>\n",
              "      <td>NaN</td>\n",
              "      <td>NaN</td>\n",
              "      <td>NaN</td>\n",
              "      <td>0</td>\n",
              "    </tr>\n",
              "    <tr>\n",
              "      <th>BURGOS</th>\n",
              "      <td>96373.104827</td>\n",
              "      <td>87084.555</td>\n",
              "      <td>1000000.00</td>\n",
              "      <td>11154.06</td>\n",
              "      <td>868</td>\n",
              "    </tr>\n",
              "    <tr>\n",
              "      <th>CACERES</th>\n",
              "      <td>72744.863044</td>\n",
              "      <td>65419.380</td>\n",
              "      <td>577415.13</td>\n",
              "      <td>10652.82</td>\n",
              "      <td>1557</td>\n",
              "    </tr>\n",
              "    <tr>\n",
              "      <th>CADIZ</th>\n",
              "      <td>95769.799152</td>\n",
              "      <td>75589.200</td>\n",
              "      <td>1000000.00</td>\n",
              "      <td>4559.55</td>\n",
              "      <td>2794</td>\n",
              "    </tr>\n",
              "    <tr>\n",
              "      <th>CANTABRIA</th>\n",
              "      <td>119203.466438</td>\n",
              "      <td>90952.140</td>\n",
              "      <td>1000000.00</td>\n",
              "      <td>16760.25</td>\n",
              "      <td>786</td>\n",
              "    </tr>\n",
              "    <tr>\n",
              "      <th>CASTELLON</th>\n",
              "      <td>74811.547642</td>\n",
              "      <td>64243.950</td>\n",
              "      <td>377178.87</td>\n",
              "      <td>11933.04</td>\n",
              "      <td>895</td>\n",
              "    </tr>\n",
              "    <tr>\n",
              "      <th>CEUTA</th>\n",
              "      <td>247478.084062</td>\n",
              "      <td>161749.710</td>\n",
              "      <td>1000000.00</td>\n",
              "      <td>49286.49</td>\n",
              "      <td>32</td>\n",
              "    </tr>\n",
              "    <tr>\n",
              "      <th>CIUDAD REAL</th>\n",
              "      <td>66489.078497</td>\n",
              "      <td>59292.210</td>\n",
              "      <td>952513.17</td>\n",
              "      <td>6875.01</td>\n",
              "      <td>1038</td>\n",
              "    </tr>\n",
              "    <tr>\n",
              "      <th>CORDOBA</th>\n",
              "      <td>80982.945725</td>\n",
              "      <td>66158.070</td>\n",
              "      <td>838152.54</td>\n",
              "      <td>8034.15</td>\n",
              "      <td>1551</td>\n",
              "    </tr>\n",
              "    <tr>\n",
              "      <th>CORUÑA, A</th>\n",
              "      <td>108029.946078</td>\n",
              "      <td>94054.200</td>\n",
              "      <td>1000000.00</td>\n",
              "      <td>14135.67</td>\n",
              "      <td>3799</td>\n",
              "    </tr>\n",
              "    <tr>\n",
              "      <th>CUENCA</th>\n",
              "      <td>69473.093912</td>\n",
              "      <td>68058.735</td>\n",
              "      <td>295889.07</td>\n",
              "      <td>10500.03</td>\n",
              "      <td>616</td>\n",
              "    </tr>\n",
              "    <tr>\n",
              "      <th>GIPUZKOA</th>\n",
              "      <td>NaN</td>\n",
              "      <td>NaN</td>\n",
              "      <td>NaN</td>\n",
              "      <td>NaN</td>\n",
              "      <td>0</td>\n",
              "    </tr>\n",
              "    <tr>\n",
              "      <th>GIRONA</th>\n",
              "      <td>141454.598033</td>\n",
              "      <td>111021.900</td>\n",
              "      <td>1000000.00</td>\n",
              "      <td>25991.28</td>\n",
              "      <td>854</td>\n",
              "    </tr>\n",
              "    <tr>\n",
              "      <th>GRANADA</th>\n",
              "      <td>87772.143577</td>\n",
              "      <td>78183.495</td>\n",
              "      <td>544433.55</td>\n",
              "      <td>13646.73</td>\n",
              "      <td>738</td>\n",
              "    </tr>\n",
              "    <tr>\n",
              "      <th>GUADALAJARA</th>\n",
              "      <td>97511.646254</td>\n",
              "      <td>95043.900</td>\n",
              "      <td>307990.59</td>\n",
              "      <td>21309.81</td>\n",
              "      <td>283</td>\n",
              "    </tr>\n",
              "    <tr>\n",
              "      <th>HUELVA</th>\n",
              "      <td>74866.709650</td>\n",
              "      <td>68853.900</td>\n",
              "      <td>358766.25</td>\n",
              "      <td>13321.02</td>\n",
              "      <td>1456</td>\n",
              "    </tr>\n",
              "    <tr>\n",
              "      <th>HUESCA</th>\n",
              "      <td>82514.632920</td>\n",
              "      <td>70390.290</td>\n",
              "      <td>463665.12</td>\n",
              "      <td>19632.24</td>\n",
              "      <td>339</td>\n",
              "    </tr>\n",
              "    <tr>\n",
              "      <th>JAEN</th>\n",
              "      <td>74353.585504</td>\n",
              "      <td>65293.800</td>\n",
              "      <td>477570.24</td>\n",
              "      <td>13627.05</td>\n",
              "      <td>407</td>\n",
              "    </tr>\n",
              "    <tr>\n",
              "      <th>LEON</th>\n",
              "      <td>87253.725705</td>\n",
              "      <td>73716.870</td>\n",
              "      <td>1000000.00</td>\n",
              "      <td>7816.92</td>\n",
              "      <td>461</td>\n",
              "    </tr>\n",
              "    <tr>\n",
              "      <th>LERIDA</th>\n",
              "      <td>80024.186765</td>\n",
              "      <td>64584.465</td>\n",
              "      <td>649599.33</td>\n",
              "      <td>9482.13</td>\n",
              "      <td>918</td>\n",
              "    </tr>\n",
              "    <tr>\n",
              "      <th>LUGO</th>\n",
              "      <td>77015.603564</td>\n",
              "      <td>64744.200</td>\n",
              "      <td>442775.28</td>\n",
              "      <td>17557.80</td>\n",
              "      <td>825</td>\n",
              "    </tr>\n",
              "    <tr>\n",
              "      <th>MADRID</th>\n",
              "      <td>162162.369163</td>\n",
              "      <td>130920.270</td>\n",
              "      <td>1000000.00</td>\n",
              "      <td>13690.89</td>\n",
              "      <td>14751</td>\n",
              "    </tr>\n",
              "    <tr>\n",
              "      <th>MALAGA</th>\n",
              "      <td>108825.097061</td>\n",
              "      <td>91119.285</td>\n",
              "      <td>1000000.00</td>\n",
              "      <td>10983.54</td>\n",
              "      <td>3018</td>\n",
              "    </tr>\n",
              "    <tr>\n",
              "      <th>MELILLA</th>\n",
              "      <td>144164.339487</td>\n",
              "      <td>108836.370</td>\n",
              "      <td>1000000.00</td>\n",
              "      <td>34437.12</td>\n",
              "      <td>39</td>\n",
              "    </tr>\n",
              "    <tr>\n",
              "      <th>MURCIA</th>\n",
              "      <td>77045.655655</td>\n",
              "      <td>66685.785</td>\n",
              "      <td>586758.90</td>\n",
              "      <td>8559.24</td>\n",
              "      <td>3206</td>\n",
              "    </tr>\n",
              "    <tr>\n",
              "      <th>NAVARRA</th>\n",
              "      <td>55866.120000</td>\n",
              "      <td>55866.120</td>\n",
              "      <td>55866.12</td>\n",
              "      <td>55866.12</td>\n",
              "      <td>1</td>\n",
              "    </tr>\n",
              "    <tr>\n",
              "      <th>OURENSE</th>\n",
              "      <td>81678.667630</td>\n",
              "      <td>79101.285</td>\n",
              "      <td>286517.07</td>\n",
              "      <td>5437.62</td>\n",
              "      <td>810</td>\n",
              "    </tr>\n",
              "    <tr>\n",
              "      <th>PALENCIA</th>\n",
              "      <td>88151.148539</td>\n",
              "      <td>84006.480</td>\n",
              "      <td>442752.93</td>\n",
              "      <td>16924.53</td>\n",
              "      <td>479</td>\n",
              "    </tr>\n",
              "    <tr>\n",
              "      <th>PALMAS, LAS</th>\n",
              "      <td>96400.191752</td>\n",
              "      <td>78600.030</td>\n",
              "      <td>926880.45</td>\n",
              "      <td>20761.08</td>\n",
              "      <td>1273</td>\n",
              "    </tr>\n",
              "    <tr>\n",
              "      <th>PONTEVEDRA</th>\n",
              "      <td>111897.800052</td>\n",
              "      <td>96656.610</td>\n",
              "      <td>1000000.00</td>\n",
              "      <td>9450.00</td>\n",
              "      <td>2679</td>\n",
              "    </tr>\n",
              "    <tr>\n",
              "      <th>RIOJA, LA</th>\n",
              "      <td>95876.224038</td>\n",
              "      <td>85837.170</td>\n",
              "      <td>462083.76</td>\n",
              "      <td>12219.90</td>\n",
              "      <td>624</td>\n",
              "    </tr>\n",
              "    <tr>\n",
              "      <th>SALAMANCA</th>\n",
              "      <td>95090.063089</td>\n",
              "      <td>86050.560</td>\n",
              "      <td>1000000.00</td>\n",
              "      <td>8075.46</td>\n",
              "      <td>1761</td>\n",
              "    </tr>\n",
              "    <tr>\n",
              "      <th>SANTA CRUZ DE TENERIFE</th>\n",
              "      <td>100780.968383</td>\n",
              "      <td>79875.840</td>\n",
              "      <td>781590.00</td>\n",
              "      <td>15371.10</td>\n",
              "      <td>266</td>\n",
              "    </tr>\n",
              "    <tr>\n",
              "      <th>SEGOVIA</th>\n",
              "      <td>97551.621226</td>\n",
              "      <td>85583.235</td>\n",
              "      <td>833481.30</td>\n",
              "      <td>12518.94</td>\n",
              "      <td>318</td>\n",
              "    </tr>\n",
              "    <tr>\n",
              "      <th>SEVILLA</th>\n",
              "      <td>109767.166243</td>\n",
              "      <td>88084.350</td>\n",
              "      <td>1000000.00</td>\n",
              "      <td>8740.26</td>\n",
              "      <td>4674</td>\n",
              "    </tr>\n",
              "    <tr>\n",
              "      <th>SORIA</th>\n",
              "      <td>83629.038496</td>\n",
              "      <td>77178.540</td>\n",
              "      <td>187516.53</td>\n",
              "      <td>19608.87</td>\n",
              "      <td>133</td>\n",
              "    </tr>\n",
              "    <tr>\n",
              "      <th>TARRAGONA</th>\n",
              "      <td>101551.714398</td>\n",
              "      <td>86789.085</td>\n",
              "      <td>1000000.00</td>\n",
              "      <td>17719.02</td>\n",
              "      <td>548</td>\n",
              "    </tr>\n",
              "    <tr>\n",
              "      <th>TERUEL</th>\n",
              "      <td>87603.263486</td>\n",
              "      <td>76177.140</td>\n",
              "      <td>933319.86</td>\n",
              "      <td>11151.63</td>\n",
              "      <td>175</td>\n",
              "    </tr>\n",
              "    <tr>\n",
              "      <th>TOLEDO</th>\n",
              "      <td>77506.178995</td>\n",
              "      <td>65218.800</td>\n",
              "      <td>1000000.00</td>\n",
              "      <td>11072.79</td>\n",
              "      <td>1473</td>\n",
              "    </tr>\n",
              "    <tr>\n",
              "      <th>VALENCIA</th>\n",
              "      <td>86732.005805</td>\n",
              "      <td>71293.650</td>\n",
              "      <td>630046.32</td>\n",
              "      <td>17564.85</td>\n",
              "      <td>2703</td>\n",
              "    </tr>\n",
              "    <tr>\n",
              "      <th>VALLADOLID</th>\n",
              "      <td>97079.209006</td>\n",
              "      <td>90349.770</td>\n",
              "      <td>546642.69</td>\n",
              "      <td>2539.80</td>\n",
              "      <td>1981</td>\n",
              "    </tr>\n",
              "    <tr>\n",
              "      <th>ZAMORA</th>\n",
              "      <td>78128.307132</td>\n",
              "      <td>74786.205</td>\n",
              "      <td>418766.49</td>\n",
              "      <td>7776.00</td>\n",
              "      <td>544</td>\n",
              "    </tr>\n",
              "    <tr>\n",
              "      <th>ZARAGOZA</th>\n",
              "      <td>106616.313618</td>\n",
              "      <td>98755.485</td>\n",
              "      <td>1000000.00</td>\n",
              "      <td>9787.50</td>\n",
              "      <td>2468</td>\n",
              "    </tr>\n",
              "  </tbody>\n",
              "</table>\n",
              "</div>\n",
              "    <div class=\"colab-df-buttons\">\n",
              "\n",
              "  <div class=\"colab-df-container\">\n",
              "    <button class=\"colab-df-convert\" onclick=\"convertToInteractive('df-42f12fa2-18f4-4bb8-9f2b-6654fd4960c0')\"\n",
              "            title=\"Convert this dataframe to an interactive table.\"\n",
              "            style=\"display:none;\">\n",
              "\n",
              "  <svg xmlns=\"http://www.w3.org/2000/svg\" height=\"24px\" viewBox=\"0 -960 960 960\">\n",
              "    <path d=\"M120-120v-720h720v720H120Zm60-500h600v-160H180v160Zm220 220h160v-160H400v160Zm0 220h160v-160H400v160ZM180-400h160v-160H180v160Zm440 0h160v-160H620v160ZM180-180h160v-160H180v160Zm440 0h160v-160H620v160Z\"/>\n",
              "  </svg>\n",
              "    </button>\n",
              "\n",
              "  <style>\n",
              "    .colab-df-container {\n",
              "      display:flex;\n",
              "      gap: 12px;\n",
              "    }\n",
              "\n",
              "    .colab-df-convert {\n",
              "      background-color: #E8F0FE;\n",
              "      border: none;\n",
              "      border-radius: 50%;\n",
              "      cursor: pointer;\n",
              "      display: none;\n",
              "      fill: #1967D2;\n",
              "      height: 32px;\n",
              "      padding: 0 0 0 0;\n",
              "      width: 32px;\n",
              "    }\n",
              "\n",
              "    .colab-df-convert:hover {\n",
              "      background-color: #E2EBFA;\n",
              "      box-shadow: 0px 1px 2px rgba(60, 64, 67, 0.3), 0px 1px 3px 1px rgba(60, 64, 67, 0.15);\n",
              "      fill: #174EA6;\n",
              "    }\n",
              "\n",
              "    .colab-df-buttons div {\n",
              "      margin-bottom: 4px;\n",
              "    }\n",
              "\n",
              "    [theme=dark] .colab-df-convert {\n",
              "      background-color: #3B4455;\n",
              "      fill: #D2E3FC;\n",
              "    }\n",
              "\n",
              "    [theme=dark] .colab-df-convert:hover {\n",
              "      background-color: #434B5C;\n",
              "      box-shadow: 0px 1px 3px 1px rgba(0, 0, 0, 0.15);\n",
              "      filter: drop-shadow(0px 1px 2px rgba(0, 0, 0, 0.3));\n",
              "      fill: #FFFFFF;\n",
              "    }\n",
              "  </style>\n",
              "\n",
              "    <script>\n",
              "      const buttonEl =\n",
              "        document.querySelector('#df-42f12fa2-18f4-4bb8-9f2b-6654fd4960c0 button.colab-df-convert');\n",
              "      buttonEl.style.display =\n",
              "        google.colab.kernel.accessAllowed ? 'block' : 'none';\n",
              "\n",
              "      async function convertToInteractive(key) {\n",
              "        const element = document.querySelector('#df-42f12fa2-18f4-4bb8-9f2b-6654fd4960c0');\n",
              "        const dataTable =\n",
              "          await google.colab.kernel.invokeFunction('convertToInteractive',\n",
              "                                                    [key], {});\n",
              "        if (!dataTable) return;\n",
              "\n",
              "        const docLinkHtml = 'Like what you see? Visit the ' +\n",
              "          '<a target=\"_blank\" href=https://colab.research.google.com/notebooks/data_table.ipynb>data table notebook</a>'\n",
              "          + ' to learn more about interactive tables.';\n",
              "        element.innerHTML = '';\n",
              "        dataTable['output_type'] = 'display_data';\n",
              "        await google.colab.output.renderOutput(dataTable, element);\n",
              "        const docLink = document.createElement('div');\n",
              "        docLink.innerHTML = docLinkHtml;\n",
              "        element.appendChild(docLink);\n",
              "      }\n",
              "    </script>\n",
              "  </div>\n",
              "\n",
              "\n",
              "<div id=\"df-bbc9f327-f424-4155-b66c-a6e0e6c1700a\">\n",
              "  <button class=\"colab-df-quickchart\" onclick=\"quickchart('df-bbc9f327-f424-4155-b66c-a6e0e6c1700a')\"\n",
              "            title=\"Suggest charts.\"\n",
              "            style=\"display:none;\">\n",
              "\n",
              "<svg xmlns=\"http://www.w3.org/2000/svg\" height=\"24px\"viewBox=\"0 0 24 24\"\n",
              "     width=\"24px\">\n",
              "    <g>\n",
              "        <path d=\"M19 3H5c-1.1 0-2 .9-2 2v14c0 1.1.9 2 2 2h14c1.1 0 2-.9 2-2V5c0-1.1-.9-2-2-2zM9 17H7v-7h2v7zm4 0h-2V7h2v10zm4 0h-2v-4h2v4z\"/>\n",
              "    </g>\n",
              "</svg>\n",
              "  </button>\n",
              "\n",
              "<style>\n",
              "  .colab-df-quickchart {\n",
              "      --bg-color: #E8F0FE;\n",
              "      --fill-color: #1967D2;\n",
              "      --hover-bg-color: #E2EBFA;\n",
              "      --hover-fill-color: #174EA6;\n",
              "      --disabled-fill-color: #AAA;\n",
              "      --disabled-bg-color: #DDD;\n",
              "  }\n",
              "\n",
              "  [theme=dark] .colab-df-quickchart {\n",
              "      --bg-color: #3B4455;\n",
              "      --fill-color: #D2E3FC;\n",
              "      --hover-bg-color: #434B5C;\n",
              "      --hover-fill-color: #FFFFFF;\n",
              "      --disabled-bg-color: #3B4455;\n",
              "      --disabled-fill-color: #666;\n",
              "  }\n",
              "\n",
              "  .colab-df-quickchart {\n",
              "    background-color: var(--bg-color);\n",
              "    border: none;\n",
              "    border-radius: 50%;\n",
              "    cursor: pointer;\n",
              "    display: none;\n",
              "    fill: var(--fill-color);\n",
              "    height: 32px;\n",
              "    padding: 0;\n",
              "    width: 32px;\n",
              "  }\n",
              "\n",
              "  .colab-df-quickchart:hover {\n",
              "    background-color: var(--hover-bg-color);\n",
              "    box-shadow: 0 1px 2px rgba(60, 64, 67, 0.3), 0 1px 3px 1px rgba(60, 64, 67, 0.15);\n",
              "    fill: var(--button-hover-fill-color);\n",
              "  }\n",
              "\n",
              "  .colab-df-quickchart-complete:disabled,\n",
              "  .colab-df-quickchart-complete:disabled:hover {\n",
              "    background-color: var(--disabled-bg-color);\n",
              "    fill: var(--disabled-fill-color);\n",
              "    box-shadow: none;\n",
              "  }\n",
              "\n",
              "  .colab-df-spinner {\n",
              "    border: 2px solid var(--fill-color);\n",
              "    border-color: transparent;\n",
              "    border-bottom-color: var(--fill-color);\n",
              "    animation:\n",
              "      spin 1s steps(1) infinite;\n",
              "  }\n",
              "\n",
              "  @keyframes spin {\n",
              "    0% {\n",
              "      border-color: transparent;\n",
              "      border-bottom-color: var(--fill-color);\n",
              "      border-left-color: var(--fill-color);\n",
              "    }\n",
              "    20% {\n",
              "      border-color: transparent;\n",
              "      border-left-color: var(--fill-color);\n",
              "      border-top-color: var(--fill-color);\n",
              "    }\n",
              "    30% {\n",
              "      border-color: transparent;\n",
              "      border-left-color: var(--fill-color);\n",
              "      border-top-color: var(--fill-color);\n",
              "      border-right-color: var(--fill-color);\n",
              "    }\n",
              "    40% {\n",
              "      border-color: transparent;\n",
              "      border-right-color: var(--fill-color);\n",
              "      border-top-color: var(--fill-color);\n",
              "    }\n",
              "    60% {\n",
              "      border-color: transparent;\n",
              "      border-right-color: var(--fill-color);\n",
              "    }\n",
              "    80% {\n",
              "      border-color: transparent;\n",
              "      border-right-color: var(--fill-color);\n",
              "      border-bottom-color: var(--fill-color);\n",
              "    }\n",
              "    90% {\n",
              "      border-color: transparent;\n",
              "      border-bottom-color: var(--fill-color);\n",
              "    }\n",
              "  }\n",
              "</style>\n",
              "\n",
              "  <script>\n",
              "    async function quickchart(key) {\n",
              "      const quickchartButtonEl =\n",
              "        document.querySelector('#' + key + ' button');\n",
              "      quickchartButtonEl.disabled = true;  // To prevent multiple clicks.\n",
              "      quickchartButtonEl.classList.add('colab-df-spinner');\n",
              "      try {\n",
              "        const charts = await google.colab.kernel.invokeFunction(\n",
              "            'suggestCharts', [key], {});\n",
              "      } catch (error) {\n",
              "        console.error('Error during call to suggestCharts:', error);\n",
              "      }\n",
              "      quickchartButtonEl.classList.remove('colab-df-spinner');\n",
              "      quickchartButtonEl.classList.add('colab-df-quickchart-complete');\n",
              "    }\n",
              "    (() => {\n",
              "      let quickchartButtonEl =\n",
              "        document.querySelector('#df-bbc9f327-f424-4155-b66c-a6e0e6c1700a button');\n",
              "      quickchartButtonEl.style.display =\n",
              "        google.colab.kernel.accessAllowed ? 'block' : 'none';\n",
              "    })();\n",
              "  </script>\n",
              "</div>\n",
              "    </div>\n",
              "  </div>\n"
            ]
          },
          "metadata": {},
          "execution_count": 79
        }
      ]
    },
    {
      "cell_type": "code",
      "source": [
        "# valores nulos\n",
        "chunk.drop(chunk[chunk['nomprov'].isin(['ALAVA', 'BIZKAIA', 'GIPUZKOA'])].index, inplace = True)\n"
      ],
      "metadata": {
        "id": "_7ilUkUsnBCG"
      },
      "execution_count": null,
      "outputs": []
    },
    {
      "cell_type": "markdown",
      "source": [
        "## **Renta**"
      ],
      "metadata": {
        "id": "gNDqIyZonzEO"
      }
    },
    {
      "cell_type": "code",
      "source": [
        "# mediana\n",
        "def medianRentaProvAll(dfp):\n",
        "    nameProv = dfp.nomprov.unique()[0]\n",
        "    median = dfp.renta.median(skipna=True)\n",
        "    print(nameProv, median)\n",
        "    dfp.loc[dfp.renta.isnull(), 'renta'] = median\n",
        "    return dfp\n",
        "\n",
        "chunk = chunk.groupby('nomprov').apply(medianRentaProvAll)\n",
        "chunk.loc[chunk.renta.isnull(), \"renta\"] = chunk.renta.median"
      ],
      "metadata": {
        "colab": {
          "base_uri": "https://localhost:8080/"
        },
        "id": "H0iFA4CqnLfe",
        "outputId": "e094ca87-7955-461a-f41e-2ef61b45f656"
      },
      "execution_count": null,
      "outputs": [
        {
          "output_type": "stream",
          "name": "stdout",
          "text": [
            "ALBACETE 76185.39\n",
            "ALICANTE 65651.775\n",
            "ALMERIA 76218.56999999999\n",
            "ASTURIAS 84023.37\n",
            "AVILA 66057.93\n",
            "BADAJOZ 58572.81\n",
            "BALEARS, ILLES 126953.07\n",
            "BARCELONA 128174.55\n",
            "BURGOS 87084.555\n",
            "CACERES 65419.38\n",
            "CADIZ 75589.20000000001\n",
            "CANTABRIA 90952.14\n",
            "CASTELLON 64243.95\n",
            "CEUTA 161749.71\n",
            "CIUDAD REAL 59292.21\n",
            "CORDOBA 66158.06999999999\n",
            "CORUÑA, A 94054.2\n",
            "CUENCA 68058.735\n",
            "GIRONA 111021.90000000001\n",
            "GRANADA 78183.495\n",
            "GUADALAJARA 95043.9\n",
            "HUELVA 68853.9\n",
            "HUESCA 70390.29000000001\n",
            "JAEN 65293.8\n",
            "LEON 73716.87\n",
            "LERIDA 64584.465000000004\n",
            "LUGO 64744.2\n",
            "MADRID 130920.27\n",
            "MALAGA 91119.285\n",
            "MELILLA 108836.37\n",
            "MURCIA 66685.785\n",
            "NAVARRA 55866.12\n",
            "OURENSE 79101.285\n",
            "PALENCIA 84006.48\n",
            "PALMAS, LAS 78600.03\n",
            "PONTEVEDRA 96656.61\n",
            "RIOJA, LA 85837.17\n",
            "SALAMANCA 86050.56\n",
            "SANTA CRUZ DE TENERIFE 79875.84\n",
            "SEGOVIA 85583.23499999999\n",
            "SEVILLA 88084.35\n",
            "SORIA 77178.54000000001\n",
            "TARRAGONA 86789.08499999999\n",
            "TERUEL 76177.14\n",
            "TOLEDO 65218.8\n",
            "VALENCIA 71293.65\n",
            "VALLADOLID 90349.77\n",
            "ZAMORA 74786.205\n",
            "ZARAGOZA 98755.485\n"
          ]
        },
        {
          "output_type": "stream",
          "name": "stderr",
          "text": [
            "<ipython-input-81-f17b1a9a8ba1>:9: FutureWarning:\n",
            "\n",
            "Not prepending group keys to the result index of transform-like apply. In the future, the group keys will be included in the index, regardless of whether the applied function returns a like-indexed object.\n",
            "To preserve the previous behavior, use\n",
            "\n",
            "\t>>> .groupby(..., group_keys=False)\n",
            "\n",
            "To adopt the future behavior and silence this warning, use \n",
            "\n",
            "\t>>> .groupby(..., group_keys=True)\n",
            "\n"
          ]
        }
      ]
    },
    {
      "cell_type": "code",
      "source": [
        "# Valores enteros: rent log\n",
        "chunk['renta'] = chunk['renta'].astype(int)\n",
        "chunk['renta_log'] = np.log(chunk['renta'])"
      ],
      "metadata": {
        "id": "ptftdALunZB2"
      },
      "execution_count": null,
      "outputs": []
    },
    {
      "cell_type": "markdown",
      "source": [
        "### **Histograma**\n",
        "\n",
        "- El primer histograma muestra la distribución de los ingresos originales 'renta', mientras que el segundo histograma muestra la distribución transformada logarítmicamente de los ingresos 'renta_log'."
      ],
      "metadata": {
        "id": "6KxhB8TKoBav"
      }
    },
    {
      "cell_type": "code",
      "source": [
        "fig, axs = plt.subplots(nrows=1, ncols=2)\n",
        "axs[0].hist(chunk['renta'], edgecolor='black')\n",
        "axs[1].hist(chunk['renta_log'], edgecolor='black')\n",
        "\n",
        "\n",
        "axs[0].set_title('Original Income')\n",
        "axs[1].set_title('Log-Transformed Income')"
      ],
      "metadata": {
        "colab": {
          "base_uri": "https://localhost:8080/",
          "height": 487
        },
        "id": "S-mcMpIIoIjf",
        "outputId": "a2d892f5-7530-4850-c033-421276da9527"
      },
      "execution_count": null,
      "outputs": [
        {
          "output_type": "execute_result",
          "data": {
            "text/plain": [
              "Text(0.5, 1.0, 'Log-Transformed Income')"
            ]
          },
          "metadata": {},
          "execution_count": 83
        },
        {
          "output_type": "display_data",
          "data": {
            "text/plain": [
              "<Figure size 640x480 with 2 Axes>"
            ],
            "image/png": "[encoded data removed]"
          },
          "metadata": {}
        }
      ]
    },
    {
      "cell_type": "markdown",
      "source": [
        "# **Estandarizacion de datos**\n",
        "- Se estandariza los valores de la columna 'antiguedad' en el DataFrame utilizando la clase StandardScaler, lo que permite comparar y analizar los valores de 'antiguedad' en una escala común y reducir la influencia de valores extremos o atípicos en el análisis posterior."
      ],
      "metadata": {
        "id": "kfVDGaB7oU8H"
      }
    },
    {
      "cell_type": "code",
      "source": [
        "scaler = StandardScaler()\n",
        "chunk.antiguedad = scaler.fit_transform(chunk[['antiguedad']])"
      ],
      "metadata": {
        "id": "Wiv77sroofbS"
      },
      "execution_count": null,
      "outputs": []
    },
    {
      "cell_type": "markdown",
      "source": [
        "# **Modelo de Regresion**"
      ],
      "metadata": {
        "id": "aU2-GcOtpdBi"
      }
    },
    {
      "cell_type": "markdown",
      "source": [
        "## **Entrenamiento**\n",
        "\n",
        "- Despues del preprocesamiento de los datos se divide en df_X y df_y para empezar el analisis.\n",
        "- Se selecciona las columnas 'sexo', 'age_stand', 'renta_log', 'tiprel_1mes', 'antiguedad', 'month', 'seg_Grad', 'seg_Ind', 'seg_VIP' como caracterisiticas.\n",
        "\n",
        "- df_y contiene los valores objetivo (producto financiero 'ind_cco_fin_ult1') asociados a cada registro en df_X."
      ],
      "metadata": {
        "id": "E-c4GY85pjRm"
      }
    },
    {
      "cell_type": "code",
      "source": [
        "df_X = chunk[['sexo', 'age_stand', 'renta_log', 'tiprel_1mes', 'antiguedad', 'month', 'seg_Grad', 'seg_Ind', 'seg_VIP']].copy()\n",
        "df_y = chunk['ind_cco_fin_ult1'].copy()"
      ],
      "metadata": {
        "id": "XEoJ0PBjpzKD"
      },
      "execution_count": null,
      "outputs": []
    },
    {
      "cell_type": "code",
      "source": [
        "df_X.columns"
      ],
      "metadata": {
        "colab": {
          "base_uri": "https://localhost:8080/"
        },
        "id": "haAdBkcap1aY",
        "outputId": "df1d4f1d-3b8e-47f9-be94-0b03d2b49722"
      },
      "execution_count": null,
      "outputs": [
        {
          "output_type": "execute_result",
          "data": {
            "text/plain": [
              "Index(['sexo', 'age_stand', 'renta_log', 'tiprel_1mes', 'antiguedad', 'month',\n",
              "       'seg_Grad', 'seg_Ind', 'seg_VIP'],\n",
              "      dtype='object')"
            ]
          },
          "metadata": {},
          "execution_count": 86
        }
      ]
    },
    {
      "cell_type": "code",
      "source": [
        "# df_X valores unicos: tiprel_1mes\n",
        "df_X.tiprel_1mes.value_counts()"
      ],
      "metadata": {
        "colab": {
          "base_uri": "https://localhost:8080/"
        },
        "id": "sORLrhVQp2G3",
        "outputId": "97b51da4-5965-4cb6-909c-e2f0438c13ca"
      },
      "execution_count": null,
      "outputs": [
        {
          "output_type": "execute_result",
          "data": {
            "text/plain": [
              "0    62477\n",
              "1    35897\n",
              "Name: tiprel_1mes, dtype: int64"
            ]
          },
          "metadata": {},
          "execution_count": 87
        }
      ]
    },
    {
      "cell_type": "code",
      "source": [
        "# df_X renombre de columnas\n",
        "new_column = ['gender', 'age_std', 'income_log', 'customer_type', 'seniority', 'month','seg_Grad', 'seg_Ind', 'seg_VIP']\n",
        "df_X.columns = new_column\n",
        "df_X.head(3)"
      ],
      "metadata": {
        "colab": {
          "base_uri": "https://localhost:8080/",
          "height": 143
        },
        "id": "zJSPXRY2qN7P",
        "outputId": "e35a62b6-af99-4ef5-c898-8c7af0d734b5"
      },
      "execution_count": null,
      "outputs": [
        {
          "output_type": "execute_result",
          "data": {
            "text/plain": [
              "   gender   age_std  income_log  customer_type  seniority  month  seg_Grad  \\\n",
              "0       0  0.761413   11.376166              1  -4.638796      1         0   \n",
              "1       1 -0.700419   10.478639              0  -0.210303      8         1   \n",
              "2       1 -0.700419   11.713242              0  -0.210303      8         1   \n",
              "\n",
              "   seg_Ind  seg_VIP  \n",
              "0        1        0  \n",
              "1        0        0  \n",
              "2        0        0  "
            ],
            "text/html": [
              "\n",
              "  <div id=\"df-40d78f3b-a9e2-4766-b701-658ffc3ef738\" class=\"colab-df-container\">\n",
              "    <div>\n",
              "<style scoped>\n",
              "    .dataframe tbody tr th:only-of-type {\n",
              "        vertical-align: middle;\n",
              "    }\n",
              "\n",
              "    .dataframe tbody tr th {\n",
              "        vertical-align: top;\n",
              "    }\n",
              "\n",
              "    .dataframe thead th {\n",
              "        text-align: right;\n",
              "    }\n",
              "</style>\n",
              "<table border=\"1\" class=\"dataframe\">\n",
              "  <thead>\n",
              "    <tr style=\"text-align: right;\">\n",
              "      <th></th>\n",
              "      <th>gender</th>\n",
              "      <th>age_std</th>\n",
              "      <th>income_log</th>\n",
              "      <th>customer_type</th>\n",
              "      <th>seniority</th>\n",
              "      <th>month</th>\n",
              "      <th>seg_Grad</th>\n",
              "      <th>seg_Ind</th>\n",
              "      <th>seg_VIP</th>\n",
              "    </tr>\n",
              "  </thead>\n",
              "  <tbody>\n",
              "    <tr>\n",
              "      <th>0</th>\n",
              "      <td>0</td>\n",
              "      <td>0.761413</td>\n",
              "      <td>11.376166</td>\n",
              "      <td>1</td>\n",
              "      <td>-4.638796</td>\n",
              "      <td>1</td>\n",
              "      <td>0</td>\n",
              "      <td>1</td>\n",
              "      <td>0</td>\n",
              "    </tr>\n",
              "    <tr>\n",
              "      <th>1</th>\n",
              "      <td>1</td>\n",
              "      <td>-0.700419</td>\n",
              "      <td>10.478639</td>\n",
              "      <td>0</td>\n",
              "      <td>-0.210303</td>\n",
              "      <td>8</td>\n",
              "      <td>1</td>\n",
              "      <td>0</td>\n",
              "      <td>0</td>\n",
              "    </tr>\n",
              "    <tr>\n",
              "      <th>2</th>\n",
              "      <td>1</td>\n",
              "      <td>-0.700419</td>\n",
              "      <td>11.713242</td>\n",
              "      <td>0</td>\n",
              "      <td>-0.210303</td>\n",
              "      <td>8</td>\n",
              "      <td>1</td>\n",
              "      <td>0</td>\n",
              "      <td>0</td>\n",
              "    </tr>\n",
              "  </tbody>\n",
              "</table>\n",
              "</div>\n",
              "    <div class=\"colab-df-buttons\">\n",
              "\n",
              "  <div class=\"colab-df-container\">\n",
              "    <button class=\"colab-df-convert\" onclick=\"convertToInteractive('df-40d78f3b-a9e2-4766-b701-658ffc3ef738')\"\n",
              "            title=\"Convert this dataframe to an interactive table.\"\n",
              "            style=\"display:none;\">\n",
              "\n",
              "  <svg xmlns=\"http://www.w3.org/2000/svg\" height=\"24px\" viewBox=\"0 -960 960 960\">\n",
              "    <path d=\"M120-120v-720h720v720H120Zm60-500h600v-160H180v160Zm220 220h160v-160H400v160Zm0 220h160v-160H400v160ZM180-400h160v-160H180v160Zm440 0h160v-160H620v160ZM180-180h160v-160H180v160Zm440 0h160v-160H620v160Z\"/>\n",
              "  </svg>\n",
              "    </button>\n",
              "\n",
              "  <style>\n",
              "    .colab-df-container {\n",
              "      display:flex;\n",
              "      gap: 12px;\n",
              "    }\n",
              "\n",
              "    .colab-df-convert {\n",
              "      background-color: #E8F0FE;\n",
              "      border: none;\n",
              "      border-radius: 50%;\n",
              "      cursor: pointer;\n",
              "      display: none;\n",
              "      fill: #1967D2;\n",
              "      height: 32px;\n",
              "      padding: 0 0 0 0;\n",
              "      width: 32px;\n",
              "    }\n",
              "\n",
              "    .colab-df-convert:hover {\n",
              "      background-color: #E2EBFA;\n",
              "      box-shadow: 0px 1px 2px rgba(60, 64, 67, 0.3), 0px 1px 3px 1px rgba(60, 64, 67, 0.15);\n",
              "      fill: #174EA6;\n",
              "    }\n",
              "\n",
              "    .colab-df-buttons div {\n",
              "      margin-bottom: 4px;\n",
              "    }\n",
              "\n",
              "    [theme=dark] .colab-df-convert {\n",
              "      background-color: #3B4455;\n",
              "      fill: #D2E3FC;\n",
              "    }\n",
              "\n",
              "    [theme=dark] .colab-df-convert:hover {\n",
              "      background-color: #434B5C;\n",
              "      box-shadow: 0px 1px 3px 1px rgba(0, 0, 0, 0.15);\n",
              "      filter: drop-shadow(0px 1px 2px rgba(0, 0, 0, 0.3));\n",
              "      fill: #FFFFFF;\n",
              "    }\n",
              "  </style>\n",
              "\n",
              "    <script>\n",
              "      const buttonEl =\n",
              "        document.querySelector('#df-40d78f3b-a9e2-4766-b701-658ffc3ef738 button.colab-df-convert');\n",
              "      buttonEl.style.display =\n",
              "        google.colab.kernel.accessAllowed ? 'block' : 'none';\n",
              "\n",
              "      async function convertToInteractive(key) {\n",
              "        const element = document.querySelector('#df-40d78f3b-a9e2-4766-b701-658ffc3ef738');\n",
              "        const dataTable =\n",
              "          await google.colab.kernel.invokeFunction('convertToInteractive',\n",
              "                                                    [key], {});\n",
              "        if (!dataTable) return;\n",
              "\n",
              "        const docLinkHtml = 'Like what you see? Visit the ' +\n",
              "          '<a target=\"_blank\" href=https://colab.research.google.com/notebooks/data_table.ipynb>data table notebook</a>'\n",
              "          + ' to learn more about interactive tables.';\n",
              "        element.innerHTML = '';\n",
              "        dataTable['output_type'] = 'display_data';\n",
              "        await google.colab.output.renderOutput(dataTable, element);\n",
              "        const docLink = document.createElement('div');\n",
              "        docLink.innerHTML = docLinkHtml;\n",
              "        element.appendChild(docLink);\n",
              "      }\n",
              "    </script>\n",
              "  </div>\n",
              "\n",
              "\n",
              "<div id=\"df-85853c89-49c2-4d6e-ad15-6fca9dc3fb3b\">\n",
              "  <button class=\"colab-df-quickchart\" onclick=\"quickchart('df-85853c89-49c2-4d6e-ad15-6fca9dc3fb3b')\"\n",
              "            title=\"Suggest charts.\"\n",
              "            style=\"display:none;\">\n",
              "\n",
              "<svg xmlns=\"http://www.w3.org/2000/svg\" height=\"24px\"viewBox=\"0 0 24 24\"\n",
              "     width=\"24px\">\n",
              "    <g>\n",
              "        <path d=\"M19 3H5c-1.1 0-2 .9-2 2v14c0 1.1.9 2 2 2h14c1.1 0 2-.9 2-2V5c0-1.1-.9-2-2-2zM9 17H7v-7h2v7zm4 0h-2V7h2v10zm4 0h-2v-4h2v4z\"/>\n",
              "    </g>\n",
              "</svg>\n",
              "  </button>\n",
              "\n",
              "<style>\n",
              "  .colab-df-quickchart {\n",
              "      --bg-color: #E8F0FE;\n",
              "      --fill-color: #1967D2;\n",
              "      --hover-bg-color: #E2EBFA;\n",
              "      --hover-fill-color: #174EA6;\n",
              "      --disabled-fill-color: #AAA;\n",
              "      --disabled-bg-color: #DDD;\n",
              "  }\n",
              "\n",
              "  [theme=dark] .colab-df-quickchart {\n",
              "      --bg-color: #3B4455;\n",
              "      --fill-color: #D2E3FC;\n",
              "      --hover-bg-color: #434B5C;\n",
              "      --hover-fill-color: #FFFFFF;\n",
              "      --disabled-bg-color: #3B4455;\n",
              "      --disabled-fill-color: #666;\n",
              "  }\n",
              "\n",
              "  .colab-df-quickchart {\n",
              "    background-color: var(--bg-color);\n",
              "    border: none;\n",
              "    border-radius: 50%;\n",
              "    cursor: pointer;\n",
              "    display: none;\n",
              "    fill: var(--fill-color);\n",
              "    height: 32px;\n",
              "    padding: 0;\n",
              "    width: 32px;\n",
              "  }\n",
              "\n",
              "  .colab-df-quickchart:hover {\n",
              "    background-color: var(--hover-bg-color);\n",
              "    box-shadow: 0 1px 2px rgba(60, 64, 67, 0.3), 0 1px 3px 1px rgba(60, 64, 67, 0.15);\n",
              "    fill: var(--button-hover-fill-color);\n",
              "  }\n",
              "\n",
              "  .colab-df-quickchart-complete:disabled,\n",
              "  .colab-df-quickchart-complete:disabled:hover {\n",
              "    background-color: var(--disabled-bg-color);\n",
              "    fill: var(--disabled-fill-color);\n",
              "    box-shadow: none;\n",
              "  }\n",
              "\n",
              "  .colab-df-spinner {\n",
              "    border: 2px solid var(--fill-color);\n",
              "    border-color: transparent;\n",
              "    border-bottom-color: var(--fill-color);\n",
              "    animation:\n",
              "      spin 1s steps(1) infinite;\n",
              "  }\n",
              "\n",
              "  @keyframes spin {\n",
              "    0% {\n",
              "      border-color: transparent;\n",
              "      border-bottom-color: var(--fill-color);\n",
              "      border-left-color: var(--fill-color);\n",
              "    }\n",
              "    20% {\n",
              "      border-color: transparent;\n",
              "      border-left-color: var(--fill-color);\n",
              "      border-top-color: var(--fill-color);\n",
              "    }\n",
              "    30% {\n",
              "      border-color: transparent;\n",
              "      border-left-color: var(--fill-color);\n",
              "      border-top-color: var(--fill-color);\n",
              "      border-right-color: var(--fill-color);\n",
              "    }\n",
              "    40% {\n",
              "      border-color: transparent;\n",
              "      border-right-color: var(--fill-color);\n",
              "      border-top-color: var(--fill-color);\n",
              "    }\n",
              "    60% {\n",
              "      border-color: transparent;\n",
              "      border-right-color: var(--fill-color);\n",
              "    }\n",
              "    80% {\n",
              "      border-color: transparent;\n",
              "      border-right-color: var(--fill-color);\n",
              "      border-bottom-color: var(--fill-color);\n",
              "    }\n",
              "    90% {\n",
              "      border-color: transparent;\n",
              "      border-bottom-color: var(--fill-color);\n",
              "    }\n",
              "  }\n",
              "</style>\n",
              "\n",
              "  <script>\n",
              "    async function quickchart(key) {\n",
              "      const quickchartButtonEl =\n",
              "        document.querySelector('#' + key + ' button');\n",
              "      quickchartButtonEl.disabled = true;  // To prevent multiple clicks.\n",
              "      quickchartButtonEl.classList.add('colab-df-spinner');\n",
              "      try {\n",
              "        const charts = await google.colab.kernel.invokeFunction(\n",
              "            'suggestCharts', [key], {});\n",
              "      } catch (error) {\n",
              "        console.error('Error during call to suggestCharts:', error);\n",
              "      }\n",
              "      quickchartButtonEl.classList.remove('colab-df-spinner');\n",
              "      quickchartButtonEl.classList.add('colab-df-quickchart-complete');\n",
              "    }\n",
              "    (() => {\n",
              "      let quickchartButtonEl =\n",
              "        document.querySelector('#df-85853c89-49c2-4d6e-ad15-6fca9dc3fb3b button');\n",
              "      quickchartButtonEl.style.display =\n",
              "        google.colab.kernel.accessAllowed ? 'block' : 'none';\n",
              "    })();\n",
              "  </script>\n",
              "</div>\n",
              "    </div>\n",
              "  </div>\n"
            ]
          },
          "metadata": {},
          "execution_count": 88
        }
      ]
    },
    {
      "cell_type": "code",
      "source": [
        "# variable objetivo : info\n",
        "df_X.info()"
      ],
      "metadata": {
        "colab": {
          "base_uri": "https://localhost:8080/"
        },
        "id": "GwRA0X5VqVCm",
        "outputId": "d793f89b-0ad3-44c9-ab00-1c3369e979f1"
      },
      "execution_count": null,
      "outputs": [
        {
          "output_type": "stream",
          "name": "stdout",
          "text": [
            "<class 'pandas.core.frame.DataFrame'>\n",
            "Int64Index: 98374 entries, 0 to 99996\n",
            "Data columns (total 9 columns):\n",
            " #   Column         Non-Null Count  Dtype  \n",
            "---  ------         --------------  -----  \n",
            " 0   gender         98374 non-null  int64  \n",
            " 1   age_std        98374 non-null  float64\n",
            " 2   income_log     98374 non-null  float64\n",
            " 3   customer_type  98374 non-null  int64  \n",
            " 4   seniority      98374 non-null  float64\n",
            " 5   month          98374 non-null  int64  \n",
            " 6   seg_Grad       98374 non-null  uint8  \n",
            " 7   seg_Ind        98374 non-null  uint8  \n",
            " 8   seg_VIP        98374 non-null  uint8  \n",
            "dtypes: float64(3), int64(3), uint8(3)\n",
            "memory usage: 7.6 MB\n"
          ]
        }
      ]
    },
    {
      "cell_type": "markdown",
      "source": [
        "## **Separacion de datos**\n",
        "- Dividir los datos en conjuntos de entrenamiento y prueba.\n",
        "- Se realiza el entrenamiento del modelo definiendo que el tamaño de los datos sean: 70% entrenamiento y 30% testeo.\n",
        "\n"
      ],
      "metadata": {
        "id": "TQe27dQxqjcu"
      }
    },
    {
      "cell_type": "code",
      "source": [
        "from sklearn.model_selection import train_test_split\n",
        "X_train, X_test, y_train, y_test = train_test_split(df_X, df_y, test_size=0.3, random_state=50)"
      ],
      "metadata": {
        "id": "NYrhNk6KqyLp"
      },
      "execution_count": null,
      "outputs": []
    },
    {
      "cell_type": "markdown",
      "source": [
        "## **Regresion Logistica**\n",
        "\n",
        "- Se crea una instancia de la regresión logística y ajusta el modelo utilizando los conjuntos de entrenamiento X_train y y_train.\n",
        "- El modelo aprende de los patrones en los datos de entrenamiento."
      ],
      "metadata": {
        "id": "5S2uIDtLq7kg"
      }
    },
    {
      "cell_type": "code",
      "source": [
        "log_model = LogisticRegression(solver='lbfgs', max_iter=3000)\n",
        "log_model.fit(X_train, y_train)"
      ],
      "metadata": {
        "colab": {
          "base_uri": "https://localhost:8080/",
          "height": 75
        },
        "id": "PGQJ_nlurMkt",
        "outputId": "02d1a18c-dae2-4206-adca-a8fd7ff0141d"
      },
      "execution_count": null,
      "outputs": [
        {
          "output_type": "execute_result",
          "data": {
            "text/plain": [
              "LogisticRegression(max_iter=3000)"
            ],
            "text/html": [
              "<style>#sk-container-id-1 {color: black;background-color: white;}#sk-container-id-1 pre{padding: 0;}#sk-container-id-1 div.sk-toggleable {background-color: white;}#sk-container-id-1 label.sk-toggleable__label {cursor: pointer;display: block;width: 100%;margin-bottom: 0;padding: 0.3em;box-sizing: border-box;text-align: center;}#sk-container-id-1 label.sk-toggleable__label-arrow:before {content: \"▸\";float: left;margin-right: 0.25em;color: #696969;}#sk-container-id-1 label.sk-toggleable__label-arrow:hover:before {color: black;}#sk-container-id-1 div.sk-estimator:hover label.sk-toggleable__label-arrow:before {color: black;}#sk-container-id-1 div.sk-toggleable__content {max-height: 0;max-width: 0;overflow: hidden;text-align: left;background-color: #f0f8ff;}#sk-container-id-1 div.sk-toggleable__content pre {margin: 0.2em;color: black;border-radius: 0.25em;background-color: #f0f8ff;}#sk-container-id-1 input.sk-toggleable__control:checked~div.sk-toggleable__content {max-height: 200px;max-width: 100%;overflow: auto;}#sk-container-id-1 input.sk-toggleable__control:checked~label.sk-toggleable__label-arrow:before {content: \"▾\";}#sk-container-id-1 div.sk-estimator input.sk-toggleable__control:checked~label.sk-toggleable__label {background-color: #d4ebff;}#sk-container-id-1 div.sk-label input.sk-toggleable__control:checked~label.sk-toggleable__label {background-color: #d4ebff;}#sk-container-id-1 input.sk-hidden--visually {border: 0;clip: rect(1px 1px 1px 1px);clip: rect(1px, 1px, 1px, 1px);height: 1px;margin: -1px;overflow: hidden;padding: 0;position: absolute;width: 1px;}#sk-container-id-1 div.sk-estimator {font-family: monospace;background-color: #f0f8ff;border: 1px dotted black;border-radius: 0.25em;box-sizing: border-box;margin-bottom: 0.5em;}#sk-container-id-1 div.sk-estimator:hover {background-color: #d4ebff;}#sk-container-id-1 div.sk-parallel-item::after {content: \"\";width: 100%;border-bottom: 1px solid gray;flex-grow: 1;}#sk-container-id-1 div.sk-label:hover label.sk-toggleable__label {background-color: #d4ebff;}#sk-container-id-1 div.sk-serial::before {content: \"\";position: absolute;border-left: 1px solid gray;box-sizing: border-box;top: 0;bottom: 0;left: 50%;z-index: 0;}#sk-container-id-1 div.sk-serial {display: flex;flex-direction: column;align-items: center;background-color: white;padding-right: 0.2em;padding-left: 0.2em;position: relative;}#sk-container-id-1 div.sk-item {position: relative;z-index: 1;}#sk-container-id-1 div.sk-parallel {display: flex;align-items: stretch;justify-content: center;background-color: white;position: relative;}#sk-container-id-1 div.sk-item::before, #sk-container-id-1 div.sk-parallel-item::before {content: \"\";position: absolute;border-left: 1px solid gray;box-sizing: border-box;top: 0;bottom: 0;left: 50%;z-index: -1;}#sk-container-id-1 div.sk-parallel-item {display: flex;flex-direction: column;z-index: 1;position: relative;background-color: white;}#sk-container-id-1 div.sk-parallel-item:first-child::after {align-self: flex-end;width: 50%;}#sk-container-id-1 div.sk-parallel-item:last-child::after {align-self: flex-start;width: 50%;}#sk-container-id-1 div.sk-parallel-item:only-child::after {width: 0;}#sk-container-id-1 div.sk-dashed-wrapped {border: 1px dashed gray;margin: 0 0.4em 0.5em 0.4em;box-sizing: border-box;padding-bottom: 0.4em;background-color: white;}#sk-container-id-1 div.sk-label label {font-family: monospace;font-weight: bold;display: inline-block;line-height: 1.2em;}#sk-container-id-1 div.sk-label-container {text-align: center;}#sk-container-id-1 div.sk-container {/* jupyter's `normalize.less` sets `[hidden] { display: none; }` but bootstrap.min.css set `[hidden] { display: none !important; }` so we also need the `!important` here to be able to override the default hidden behavior on the sphinx rendered scikit-learn.org. See: https://github.com/scikit-learn/scikit-learn/issues/21755 */display: inline-block !important;position: relative;}#sk-container-id-1 div.sk-text-repr-fallback {display: none;}</style><div id=\"sk-container-id-1\" class=\"sk-top-container\"><div class=\"sk-text-repr-fallback\"><pre>LogisticRegression(max_iter=3000)</pre><b>In a Jupyter environment, please rerun this cell to show the HTML representation or trust the notebook. <br />On GitHub, the HTML representation is unable to render, please try loading this page with nbviewer.org.</b></div><div class=\"sk-container\" hidden><div class=\"sk-item\"><div class=\"sk-estimator sk-toggleable\"><input class=\"sk-toggleable__control sk-hidden--visually\" id=\"sk-estimator-id-1\" type=\"checkbox\" checked><label for=\"sk-estimator-id-1\" class=\"sk-toggleable__label sk-toggleable__label-arrow\">LogisticRegression</label><div class=\"sk-toggleable__content\"><pre>LogisticRegression(max_iter=3000)</pre></div></div></div></div></div>"
            ]
          },
          "metadata": {},
          "execution_count": 91
        }
      ]
    },
    {
      "cell_type": "markdown",
      "source": [
        "### **Prediccion**\n",
        "\n",
        "- Se utiliza el modelo de regresión logística entrenado para realizar predicciones en el conjunto de entrenamiento X_train.\n"
      ],
      "metadata": {
        "id": "Nxx1n0ILrOQi"
      }
    },
    {
      "cell_type": "code",
      "source": [
        "y_pred_train = log_model.predict(X_train)"
      ],
      "metadata": {
        "id": "Qt-LQzbFrYuf"
      },
      "execution_count": null,
      "outputs": []
    },
    {
      "cell_type": "markdown",
      "source": [
        "## **Evaluacion**\n",
        "\n",
        "- Se calcula la matriz de confusión entre las etiquetas verdaderas y predichas en el conjunto de entrenamiento.\n",
        "- Proporciona información sobre la precisión y el rendimiento del modelo en las muestras de entrenamiento."
      ],
      "metadata": {
        "id": "9mUoPcHWrbTP"
      }
    },
    {
      "cell_type": "code",
      "source": [
        "from sklearn import metrics\n",
        "\n",
        "cnf_matrix_train = metrics.confusion_matrix(y_train, y_pred_train)\n",
        "cnf_matrix_train"
      ],
      "metadata": {
        "colab": {
          "base_uri": "https://localhost:8080/"
        },
        "id": "_GUV-U31rlno",
        "outputId": "d83f5d57-e77d-4ab0-daf1-43a456ffaee3"
      },
      "execution_count": null,
      "outputs": [
        {
          "output_type": "execute_result",
          "data": {
            "text/plain": [
              "array([[  246,  6146],\n",
              "       [   59, 62410]])"
            ]
          },
          "metadata": {},
          "execution_count": 93
        }
      ]
    },
    {
      "cell_type": "markdown",
      "source": [
        "## **Matriz Confusion**\n",
        "Se utiliza el modelo de regresión logística entrenado para realizar predicciones en el conjunto de prueba. Luego, se calcula la matriz de confusión basada en las etiquetas verdaderas y las etiquetas predichas en el conjunto de prueba."
      ],
      "metadata": {
        "id": "WSj0LCifrwN9"
      }
    },
    {
      "cell_type": "code",
      "source": [
        "y_pred_test = log_model.predict(X_test)\n",
        "cnf_matrix_test = metrics.confusion_matrix(y_test, y_pred_test)\n",
        "cnf_matrix_test"
      ],
      "metadata": {
        "colab": {
          "base_uri": "https://localhost:8080/"
        },
        "id": "j73nKDEHr_4J",
        "outputId": "0dd69d26-a072-42f5-a74d-afea52fc9c68"
      },
      "execution_count": null,
      "outputs": [
        {
          "output_type": "execute_result",
          "data": {
            "text/plain": [
              "array([[   95,  2632],\n",
              "       [   24, 26762]])"
            ]
          },
          "metadata": {},
          "execution_count": 94
        }
      ]
    },
    {
      "cell_type": "markdown",
      "source": [
        "## **Metricas**\n",
        "\n",
        "Se imprime las metricas de evaluación del modelo, en la cual se obtiene el 80% de precision de predecir el label 0 y el 91% de precisión del label 1."
      ],
      "metadata": {
        "id": "9xyh09rgrwey"
      }
    },
    {
      "cell_type": "code",
      "source": [
        "from sklearn.metrics import classification_report\n",
        "print(classification_report(y_test, y_pred_test))"
      ],
      "metadata": {
        "colab": {
          "base_uri": "https://localhost:8080/"
        },
        "id": "_J_gtCrOsIqA",
        "outputId": "f9ea1cd6-171e-4e44-9031-8346daae5675"
      },
      "execution_count": null,
      "outputs": [
        {
          "output_type": "stream",
          "name": "stdout",
          "text": [
            "              precision    recall  f1-score   support\n",
            "\n",
            "           0       0.80      0.03      0.07      2727\n",
            "           1       0.91      1.00      0.95     26786\n",
            "\n",
            "    accuracy                           0.91     29513\n",
            "   macro avg       0.85      0.52      0.51     29513\n",
            "weighted avg       0.90      0.91      0.87     29513\n",
            "\n"
          ]
        }
      ]
    },
    {
      "cell_type": "markdown",
      "source": [
        "## **Conclusion**\n",
        "\n",
        "Lo que se quiere predecir es el producto financiero ('ind_cco_fin_ult1') en este caso etiquetado como 0 y 1, es decir, se predice si el cliente va a efectuar la transacción de producto o no."
      ],
      "metadata": {
        "id": "AAJ9foP_sKPc"
      }
    }
  ]
}